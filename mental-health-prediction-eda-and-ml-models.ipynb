{
 "cells": [
  {
   "cell_type": "code",
   "execution_count": 1,
   "metadata": {
    "_cell_guid": "b1076dfc-b9ad-4769-8c92-a6c4dae69d19",
    "_uuid": "8f2839f25d086af736a60e9eeb907d3b93b6e0e5",
    "execution": {
     "iopub.execute_input": "2021-02-02T06:58:04.119682Z",
     "iopub.status.busy": "2021-02-02T06:58:04.119001Z",
     "iopub.status.idle": "2021-02-02T06:58:04.131501Z",
     "shell.execute_reply": "2021-02-02T06:58:04.131962Z"
    },
    "papermill": {
     "duration": 0.069535,
     "end_time": "2021-02-02T06:58:04.132313",
     "exception": false,
     "start_time": "2021-02-02T06:58:04.062778",
     "status": "completed"
    },
    "tags": []
   },
   "outputs": [
    {
     "name": "stdout",
     "output_type": "stream",
     "text": [
      "/kaggle/input/mental-health-data/Mental Health Data.csv\n"
     ]
    }
   ],
   "source": [
    "# This Python 3 environment comes with many helpful analytics libraries installed\n",
    "# It is defined by the kaggle/python Docker image: https://github.com/kaggle/docker-python\n",
    "# For example, here's several helpful packages to load\n",
    "\n",
    "import numpy as np # linear algebra\n",
    "import pandas as pd # data processing, CSV file I/O (e.g. pd.read_csv)\n",
    "\n",
    "# Input data files are available in the read-only \"../input/\" directory\n",
    "# For example, running this (by clicking run or pressing Shift+Enter) will list all files under the input directory\n",
    "\n",
    "import os\n",
    "for dirname, _, filenames in os.walk('/kaggle/input'):\n",
    "    for filename in filenames:\n",
    "        print(os.path.join(dirname, filename))\n",
    "\n",
    "# You can write up to 20GB to the current directory (/kaggle/working/) that gets preserved as output when you create a version using \"Save & Run All\" \n",
    "# You can also write temporary files to /kaggle/temp/, but they won't be saved outside of the current session"
   ]
  },
  {
   "cell_type": "markdown",
   "metadata": {
    "papermill": {
     "duration": 0.046969,
     "end_time": "2021-02-02T06:58:04.227303",
     "exception": false,
     "start_time": "2021-02-02T06:58:04.180334",
     "status": "completed"
    },
    "tags": []
   },
   "source": [
    "## 1. Import Libraries"
   ]
  },
  {
   "cell_type": "code",
   "execution_count": 2,
   "metadata": {
    "execution": {
     "iopub.execute_input": "2021-02-02T06:58:04.324710Z",
     "iopub.status.busy": "2021-02-02T06:58:04.323728Z",
     "iopub.status.idle": "2021-02-02T06:58:05.619489Z",
     "shell.execute_reply": "2021-02-02T06:58:05.618744Z"
    },
    "papermill": {
     "duration": 1.345621,
     "end_time": "2021-02-02T06:58:05.619644",
     "exception": false,
     "start_time": "2021-02-02T06:58:04.274023",
     "status": "completed"
    },
    "tags": []
   },
   "outputs": [],
   "source": [
    "import numpy as np \n",
    "import pandas as pd \n",
    "import matplotlib.pyplot as plt\n",
    "import seaborn as sns\n",
    "from scipy import stats\n",
    "from scipy.stats import randint\n",
    "from sklearn.model_selection import train_test_split\n",
    "from sklearn import preprocessing\n",
    "from sklearn.datasets import make_classification\n",
    "from sklearn.preprocessing import binarize, LabelEncoder, MinMaxScaler"
   ]
  },
  {
   "cell_type": "markdown",
   "metadata": {
    "papermill": {
     "duration": 0.046506,
     "end_time": "2021-02-02T06:58:05.715467",
     "exception": false,
     "start_time": "2021-02-02T06:58:05.668961",
     "status": "completed"
    },
    "tags": []
   },
   "source": [
    "## 2. Reading and Cleaning"
   ]
  },
  {
   "cell_type": "code",
   "execution_count": 3,
   "metadata": {
    "execution": {
     "iopub.execute_input": "2021-02-02T06:58:05.816877Z",
     "iopub.status.busy": "2021-02-02T06:58:05.816145Z",
     "iopub.status.idle": "2021-02-02T06:58:05.934539Z",
     "shell.execute_reply": "2021-02-02T06:58:05.935130Z"
    },
    "papermill": {
     "duration": 0.172562,
     "end_time": "2021-02-02T06:58:05.935339",
     "exception": false,
     "start_time": "2021-02-02T06:58:05.762777",
     "status": "completed"
    },
    "tags": []
   },
   "outputs": [],
   "source": [
    "df_MHdata=pd.read_csv(\"/kaggle/input/mental-health-data/Mental Health Data.csv\")"
   ]
  },
  {
   "cell_type": "code",
   "execution_count": 4,
   "metadata": {
    "execution": {
     "iopub.execute_input": "2021-02-02T06:58:06.054425Z",
     "iopub.status.busy": "2021-02-02T06:58:06.053463Z",
     "iopub.status.idle": "2021-02-02T06:58:06.087296Z",
     "shell.execute_reply": "2021-02-02T06:58:06.087801Z"
    },
    "papermill": {
     "duration": 0.104701,
     "end_time": "2021-02-02T06:58:06.088008",
     "exception": false,
     "start_time": "2021-02-02T06:58:05.983307",
     "status": "completed"
    },
    "tags": []
   },
   "outputs": [
    {
     "data": {
      "text/html": [
       "<div>\n",
       "<style scoped>\n",
       "    .dataframe tbody tr th:only-of-type {\n",
       "        vertical-align: middle;\n",
       "    }\n",
       "\n",
       "    .dataframe tbody tr th {\n",
       "        vertical-align: top;\n",
       "    }\n",
       "\n",
       "    .dataframe thead th {\n",
       "        text-align: right;\n",
       "    }\n",
       "</style>\n",
       "<table border=\"1\" class=\"dataframe\">\n",
       "  <thead>\n",
       "    <tr style=\"text-align: right;\">\n",
       "      <th></th>\n",
       "      <th>Are you self-employed?</th>\n",
       "      <th>How many employees does your company or organization have?</th>\n",
       "      <th>Is your employer primarily a tech company/organization?</th>\n",
       "      <th>Is your primary role within your company related to tech/IT?</th>\n",
       "      <th>Does your employer provide mental health benefits as part of healthcare coverage?</th>\n",
       "      <th>Do you know the options for mental health care available under your employer-provided coverage?</th>\n",
       "      <th>Has your employer ever formally discussed mental health (for example, as part of a wellness campaign or other official communication)?</th>\n",
       "      <th>Does your employer offer resources to learn more about mental health concerns and options for seeking help?</th>\n",
       "      <th>If a mental health issue prompted you to request a medical leave from work, asking for that leave would be:</th>\n",
       "      <th>Would you feel comfortable discussing a mental health disorder with your coworkers?</th>\n",
       "      <th>...</th>\n",
       "      <th>If you have a mental health issue, do you feel that it interferes with your work when being treated effectively?</th>\n",
       "      <th>If you have a mental health issue, do you feel that it interferes with your work when NOT being treated effectively?</th>\n",
       "      <th>What is your age?</th>\n",
       "      <th>What is your gender?</th>\n",
       "      <th>What country do you live in?</th>\n",
       "      <th>What US state or territory do you live in?</th>\n",
       "      <th>What country do you work in?</th>\n",
       "      <th>What US state or territory do you work in?</th>\n",
       "      <th>Which of the following best describes your work position?</th>\n",
       "      <th>Do you work remotely?</th>\n",
       "    </tr>\n",
       "  </thead>\n",
       "  <tbody>\n",
       "    <tr>\n",
       "      <th>0</th>\n",
       "      <td>0</td>\n",
       "      <td>1 to 5</td>\n",
       "      <td>1.0</td>\n",
       "      <td>NaN</td>\n",
       "      <td>Yes</td>\n",
       "      <td>Yes</td>\n",
       "      <td>No</td>\n",
       "      <td>No</td>\n",
       "      <td>Somewhat difficult</td>\n",
       "      <td>Maybe</td>\n",
       "      <td>...</td>\n",
       "      <td>Sometimes</td>\n",
       "      <td>Often</td>\n",
       "      <td>33</td>\n",
       "      <td>Male</td>\n",
       "      <td>Canada</td>\n",
       "      <td>NaN</td>\n",
       "      <td>Canada</td>\n",
       "      <td>NaN</td>\n",
       "      <td>Back-end Developer</td>\n",
       "      <td>Sometimes</td>\n",
       "    </tr>\n",
       "    <tr>\n",
       "      <th>1</th>\n",
       "      <td>0</td>\n",
       "      <td>1 to 5</td>\n",
       "      <td>1.0</td>\n",
       "      <td>NaN</td>\n",
       "      <td>No</td>\n",
       "      <td>No</td>\n",
       "      <td>No</td>\n",
       "      <td>I don't know</td>\n",
       "      <td>Very easy</td>\n",
       "      <td>Yes</td>\n",
       "      <td>...</td>\n",
       "      <td>Not applicable to me</td>\n",
       "      <td>Not applicable to me</td>\n",
       "      <td>40</td>\n",
       "      <td>male</td>\n",
       "      <td>Netherlands</td>\n",
       "      <td>NaN</td>\n",
       "      <td>Netherlands</td>\n",
       "      <td>NaN</td>\n",
       "      <td>Front-end Developer|Back-end Developer</td>\n",
       "      <td>Sometimes</td>\n",
       "    </tr>\n",
       "    <tr>\n",
       "      <th>2</th>\n",
       "      <td>0</td>\n",
       "      <td>1 to 5</td>\n",
       "      <td>1.0</td>\n",
       "      <td>NaN</td>\n",
       "      <td>Yes</td>\n",
       "      <td>Yes</td>\n",
       "      <td>No</td>\n",
       "      <td>I don't know</td>\n",
       "      <td>I don't know</td>\n",
       "      <td>Maybe</td>\n",
       "      <td>...</td>\n",
       "      <td>Not applicable to me</td>\n",
       "      <td>Not applicable to me</td>\n",
       "      <td>21</td>\n",
       "      <td>male</td>\n",
       "      <td>United Kingdom</td>\n",
       "      <td>NaN</td>\n",
       "      <td>United Kingdom</td>\n",
       "      <td>NaN</td>\n",
       "      <td>Back-end Developer|DevOps/SysAdmin</td>\n",
       "      <td>Never</td>\n",
       "    </tr>\n",
       "  </tbody>\n",
       "</table>\n",
       "<p>3 rows × 31 columns</p>\n",
       "</div>"
      ],
      "text/plain": [
       "   Are you self-employed?  \\\n",
       "0                       0   \n",
       "1                       0   \n",
       "2                       0   \n",
       "\n",
       "  How many employees does your company or organization have?  \\\n",
       "0                                             1 to 5           \n",
       "1                                             1 to 5           \n",
       "2                                             1 to 5           \n",
       "\n",
       "   Is your employer primarily a tech company/organization?  \\\n",
       "0                                                1.0         \n",
       "1                                                1.0         \n",
       "2                                                1.0         \n",
       "\n",
       "   Is your primary role within your company related to tech/IT?  \\\n",
       "0                                                NaN              \n",
       "1                                                NaN              \n",
       "2                                                NaN              \n",
       "\n",
       "  Does your employer provide mental health benefits as part of healthcare coverage?  \\\n",
       "0                                                Yes                                  \n",
       "1                                                 No                                  \n",
       "2                                                Yes                                  \n",
       "\n",
       "  Do you know the options for mental health care available under your employer-provided coverage?  \\\n",
       "0                                                Yes                                                \n",
       "1                                                 No                                                \n",
       "2                                                Yes                                                \n",
       "\n",
       "  Has your employer ever formally discussed mental health (for example, as part of a wellness campaign or other official communication)?  \\\n",
       "0                                                 No                                                                                       \n",
       "1                                                 No                                                                                       \n",
       "2                                                 No                                                                                       \n",
       "\n",
       "  Does your employer offer resources to learn more about mental health concerns and options for seeking help?  \\\n",
       "0                                                 No                                                            \n",
       "1                                       I don't know                                                            \n",
       "2                                       I don't know                                                            \n",
       "\n",
       "  If a mental health issue prompted you to request a medical leave from work, asking for that leave would be:  \\\n",
       "0                                 Somewhat difficult                                                            \n",
       "1                                          Very easy                                                            \n",
       "2                                       I don't know                                                            \n",
       "\n",
       "  Would you feel comfortable discussing a mental health disorder with your coworkers?  \\\n",
       "0                                              Maybe                                    \n",
       "1                                                Yes                                    \n",
       "2                                              Maybe                                    \n",
       "\n",
       "   ...  \\\n",
       "0  ...   \n",
       "1  ...   \n",
       "2  ...   \n",
       "\n",
       "  If you have a mental health issue, do you feel that it interferes with your work when being treated effectively?  \\\n",
       "0                                          Sometimes                                                                 \n",
       "1                               Not applicable to me                                                                 \n",
       "2                               Not applicable to me                                                                 \n",
       "\n",
       "  If you have a mental health issue, do you feel that it interferes with your work when NOT being treated effectively?  \\\n",
       "0                                              Often                                                                     \n",
       "1                               Not applicable to me                                                                     \n",
       "2                               Not applicable to me                                                                     \n",
       "\n",
       "  What is your age? What is your gender? What country do you live in?  \\\n",
       "0                33                 Male                       Canada   \n",
       "1                40                 male                  Netherlands   \n",
       "2                21                 male               United Kingdom   \n",
       "\n",
       "  What US state or territory do you live in? What country do you work in?  \\\n",
       "0                                        NaN                       Canada   \n",
       "1                                        NaN                  Netherlands   \n",
       "2                                        NaN               United Kingdom   \n",
       "\n",
       "  What US state or territory do you work in?  \\\n",
       "0                                        NaN   \n",
       "1                                        NaN   \n",
       "2                                        NaN   \n",
       "\n",
       "  Which of the following best describes your work position?  \\\n",
       "0                                 Back-end Developer          \n",
       "1             Front-end Developer|Back-end Developer          \n",
       "2                 Back-end Developer|DevOps/SysAdmin          \n",
       "\n",
       "  Do you work remotely?  \n",
       "0             Sometimes  \n",
       "1             Sometimes  \n",
       "2                 Never  \n",
       "\n",
       "[3 rows x 31 columns]"
      ]
     },
     "execution_count": 4,
     "metadata": {},
     "output_type": "execute_result"
    }
   ],
   "source": [
    "## checking the dataframe\n",
    "df_MHdata.head(n=3)"
   ]
  },
  {
   "cell_type": "code",
   "execution_count": 5,
   "metadata": {
    "execution": {
     "iopub.execute_input": "2021-02-02T06:58:06.189146Z",
     "iopub.status.busy": "2021-02-02T06:58:06.188174Z",
     "iopub.status.idle": "2021-02-02T06:58:06.193231Z",
     "shell.execute_reply": "2021-02-02T06:58:06.193690Z"
    },
    "papermill": {
     "duration": 0.057088,
     "end_time": "2021-02-02T06:58:06.193860",
     "exception": false,
     "start_time": "2021-02-02T06:58:06.136772",
     "status": "completed"
    },
    "tags": []
   },
   "outputs": [
    {
     "data": {
      "text/plain": [
       "(1433, 31)"
      ]
     },
     "execution_count": 5,
     "metadata": {},
     "output_type": "execute_result"
    }
   ],
   "source": [
    "## shape of the dataframe\n",
    "df_MHdata.shape"
   ]
  },
  {
   "cell_type": "code",
   "execution_count": 6,
   "metadata": {
    "execution": {
     "iopub.execute_input": "2021-02-02T06:58:06.295498Z",
     "iopub.status.busy": "2021-02-02T06:58:06.294517Z",
     "iopub.status.idle": "2021-02-02T06:58:06.312392Z",
     "shell.execute_reply": "2021-02-02T06:58:06.311689Z"
    },
    "papermill": {
     "duration": 0.070539,
     "end_time": "2021-02-02T06:58:06.312536",
     "exception": false,
     "start_time": "2021-02-02T06:58:06.241997",
     "status": "completed"
    },
    "tags": []
   },
   "outputs": [],
   "source": [
    "## Rename the columns\n",
    "a=list(df_MHdata.columns)\n",
    "b=['self_employed','no_of_employees','tech_company','role_IT','mental_healthcare_coverage',\n",
    "  'knowledge_about_mental_healthcare_options_workplace','employer_discussed_mental_health ',\n",
    "  'employer_offer_resources_to_learn_about_mental_health','medical_leave_from_work ',\n",
    "  'comfortable_discussing_with_coworkers','employer_take_mental_health_seriously',\n",
    "   'knowledge_of_local_online_resources ','productivity_affected_by_mental_health ',\n",
    "   'percentage_work_time_affected_mental_health','openess_of_family_friends',\n",
    "  'family_history_mental_illness','mental_health_disorder_past',\n",
    "   'currently_mental_health_disorder','diagnosed_mental_health_condition',\n",
    "   'type_of_disorder','treatment_from_professional',\n",
    "   'while_effective_treatment_mental_health_issue_interferes_work',\n",
    "  'while_not_effective_treatment_interferes_work ','age','gender','country','US state',\n",
    "  'country work ','US state work','role_in_company','work_remotely','']\n",
    "for i,j in zip(a,b):\n",
    "    df_MHdata.rename(columns={i:j},inplace=True)"
   ]
  },
  {
   "cell_type": "code",
   "execution_count": 7,
   "metadata": {
    "execution": {
     "iopub.execute_input": "2021-02-02T06:58:06.433567Z",
     "iopub.status.busy": "2021-02-02T06:58:06.422062Z",
     "iopub.status.idle": "2021-02-02T06:58:06.442367Z",
     "shell.execute_reply": "2021-02-02T06:58:06.441633Z"
    },
    "papermill": {
     "duration": 0.081172,
     "end_time": "2021-02-02T06:58:06.442514",
     "exception": false,
     "start_time": "2021-02-02T06:58:06.361342",
     "status": "completed"
    },
    "tags": []
   },
   "outputs": [
    {
     "name": "stdout",
     "output_type": "stream",
     "text": [
      "<class 'pandas.core.frame.DataFrame'>\n",
      "RangeIndex: 1433 entries, 0 to 1432\n",
      "Data columns (total 31 columns):\n",
      " #   Column                                                         Non-Null Count  Dtype  \n",
      "---  ------                                                         --------------  -----  \n",
      " 0   self_employed                                                  1433 non-null   int64  \n",
      " 1   no_of_employees                                                1146 non-null   object \n",
      " 2   tech_company                                                   1146 non-null   float64\n",
      " 3   role_IT                                                        263 non-null    float64\n",
      " 4   mental_healthcare_coverage                                     1146 non-null   object \n",
      " 5   knowledge_about_mental_healthcare_options_workplace            1013 non-null   object \n",
      " 6   employer_discussed_mental_health                               1146 non-null   object \n",
      " 7   employer_offer_resources_to_learn_about_mental_health          1146 non-null   object \n",
      " 8   medical_leave_from_work                                        1146 non-null   object \n",
      " 9   comfortable_discussing_with_coworkers                          1146 non-null   object \n",
      " 10  employer_take_mental_health_seriously                          1146 non-null   object \n",
      " 11  knowledge_of_local_online_resources                            287 non-null    object \n",
      " 12  productivity_affected_by_mental_health                         287 non-null    object \n",
      " 13  percentage_work_time_affected_mental_health                    204 non-null    object \n",
      " 14  openess_of_family_friends                                      1433 non-null   object \n",
      " 15  family_history_mental_illness                                  1433 non-null   object \n",
      " 16  mental_health_disorder_past                                    1433 non-null   object \n",
      " 17  currently_mental_health_disorder                               1433 non-null   object \n",
      " 18  diagnosed_mental_health_condition                              1433 non-null   object \n",
      " 19  type_of_disorder                                               711 non-null    object \n",
      " 20  treatment_from_professional                                    1433 non-null   int64  \n",
      " 21  while_effective_treatment_mental_health_issue_interferes_work  1433 non-null   object \n",
      " 22  while_not_effective_treatment_interferes_work                  1433 non-null   object \n",
      " 23  age                                                            1433 non-null   int64  \n",
      " 24  gender                                                         1430 non-null   object \n",
      " 25  country                                                        1433 non-null   object \n",
      " 26  US state                                                       840 non-null    object \n",
      " 27  country work                                                   1433 non-null   object \n",
      " 28  US state work                                                  851 non-null    object \n",
      " 29  role_in_company                                                1433 non-null   object \n",
      " 30  work_remotely                                                  1433 non-null   object \n",
      "dtypes: float64(2), int64(3), object(26)\n",
      "memory usage: 347.2+ KB\n"
     ]
    }
   ],
   "source": [
    "## information of Dataframe\n",
    "df_MHdata.info()"
   ]
  },
  {
   "cell_type": "code",
   "execution_count": 8,
   "metadata": {
    "execution": {
     "iopub.execute_input": "2021-02-02T06:58:06.546451Z",
     "iopub.status.busy": "2021-02-02T06:58:06.545779Z",
     "iopub.status.idle": "2021-02-02T06:58:06.565314Z",
     "shell.execute_reply": "2021-02-02T06:58:06.564454Z"
    },
    "papermill": {
     "duration": 0.072762,
     "end_time": "2021-02-02T06:58:06.565473",
     "exception": false,
     "start_time": "2021-02-02T06:58:06.492711",
     "status": "completed"
    },
    "tags": []
   },
   "outputs": [
    {
     "data": {
      "text/html": [
       "<div>\n",
       "<style scoped>\n",
       "    .dataframe tbody tr th:only-of-type {\n",
       "        vertical-align: middle;\n",
       "    }\n",
       "\n",
       "    .dataframe tbody tr th {\n",
       "        vertical-align: top;\n",
       "    }\n",
       "\n",
       "    .dataframe thead th {\n",
       "        text-align: right;\n",
       "    }\n",
       "</style>\n",
       "<table border=\"1\" class=\"dataframe\">\n",
       "  <thead>\n",
       "    <tr style=\"text-align: right;\">\n",
       "      <th></th>\n",
       "      <th>no of missing values</th>\n",
       "    </tr>\n",
       "  </thead>\n",
       "  <tbody>\n",
       "    <tr>\n",
       "      <th>self_employed</th>\n",
       "      <td>0</td>\n",
       "    </tr>\n",
       "    <tr>\n",
       "      <th>no_of_employees</th>\n",
       "      <td>287</td>\n",
       "    </tr>\n",
       "    <tr>\n",
       "      <th>tech_company</th>\n",
       "      <td>287</td>\n",
       "    </tr>\n",
       "    <tr>\n",
       "      <th>role_IT</th>\n",
       "      <td>1170</td>\n",
       "    </tr>\n",
       "    <tr>\n",
       "      <th>mental_healthcare_coverage</th>\n",
       "      <td>287</td>\n",
       "    </tr>\n",
       "    <tr>\n",
       "      <th>knowledge_about_mental_healthcare_options_workplace</th>\n",
       "      <td>420</td>\n",
       "    </tr>\n",
       "    <tr>\n",
       "      <th>employer_discussed_mental_health</th>\n",
       "      <td>287</td>\n",
       "    </tr>\n",
       "    <tr>\n",
       "      <th>employer_offer_resources_to_learn_about_mental_health</th>\n",
       "      <td>287</td>\n",
       "    </tr>\n",
       "    <tr>\n",
       "      <th>medical_leave_from_work</th>\n",
       "      <td>287</td>\n",
       "    </tr>\n",
       "    <tr>\n",
       "      <th>comfortable_discussing_with_coworkers</th>\n",
       "      <td>287</td>\n",
       "    </tr>\n",
       "    <tr>\n",
       "      <th>employer_take_mental_health_seriously</th>\n",
       "      <td>287</td>\n",
       "    </tr>\n",
       "    <tr>\n",
       "      <th>knowledge_of_local_online_resources</th>\n",
       "      <td>1146</td>\n",
       "    </tr>\n",
       "    <tr>\n",
       "      <th>productivity_affected_by_mental_health</th>\n",
       "      <td>1146</td>\n",
       "    </tr>\n",
       "    <tr>\n",
       "      <th>percentage_work_time_affected_mental_health</th>\n",
       "      <td>1229</td>\n",
       "    </tr>\n",
       "    <tr>\n",
       "      <th>openess_of_family_friends</th>\n",
       "      <td>0</td>\n",
       "    </tr>\n",
       "    <tr>\n",
       "      <th>family_history_mental_illness</th>\n",
       "      <td>0</td>\n",
       "    </tr>\n",
       "    <tr>\n",
       "      <th>mental_health_disorder_past</th>\n",
       "      <td>0</td>\n",
       "    </tr>\n",
       "    <tr>\n",
       "      <th>currently_mental_health_disorder</th>\n",
       "      <td>0</td>\n",
       "    </tr>\n",
       "    <tr>\n",
       "      <th>diagnosed_mental_health_condition</th>\n",
       "      <td>0</td>\n",
       "    </tr>\n",
       "    <tr>\n",
       "      <th>type_of_disorder</th>\n",
       "      <td>722</td>\n",
       "    </tr>\n",
       "    <tr>\n",
       "      <th>treatment_from_professional</th>\n",
       "      <td>0</td>\n",
       "    </tr>\n",
       "    <tr>\n",
       "      <th>while_effective_treatment_mental_health_issue_interferes_work</th>\n",
       "      <td>0</td>\n",
       "    </tr>\n",
       "    <tr>\n",
       "      <th>while_not_effective_treatment_interferes_work</th>\n",
       "      <td>0</td>\n",
       "    </tr>\n",
       "    <tr>\n",
       "      <th>age</th>\n",
       "      <td>0</td>\n",
       "    </tr>\n",
       "    <tr>\n",
       "      <th>gender</th>\n",
       "      <td>3</td>\n",
       "    </tr>\n",
       "    <tr>\n",
       "      <th>country</th>\n",
       "      <td>0</td>\n",
       "    </tr>\n",
       "    <tr>\n",
       "      <th>US state</th>\n",
       "      <td>593</td>\n",
       "    </tr>\n",
       "    <tr>\n",
       "      <th>country work</th>\n",
       "      <td>0</td>\n",
       "    </tr>\n",
       "    <tr>\n",
       "      <th>US state work</th>\n",
       "      <td>582</td>\n",
       "    </tr>\n",
       "    <tr>\n",
       "      <th>role_in_company</th>\n",
       "      <td>0</td>\n",
       "    </tr>\n",
       "    <tr>\n",
       "      <th>work_remotely</th>\n",
       "      <td>0</td>\n",
       "    </tr>\n",
       "  </tbody>\n",
       "</table>\n",
       "</div>"
      ],
      "text/plain": [
       "                                                    no of missing values\n",
       "self_employed                                                          0\n",
       "no_of_employees                                                      287\n",
       "tech_company                                                         287\n",
       "role_IT                                                             1170\n",
       "mental_healthcare_coverage                                           287\n",
       "knowledge_about_mental_healthcare_options_workp...                   420\n",
       "employer_discussed_mental_health                                     287\n",
       "employer_offer_resources_to_learn_about_mental_...                   287\n",
       "medical_leave_from_work                                              287\n",
       "comfortable_discussing_with_coworkers                                287\n",
       "employer_take_mental_health_seriously                                287\n",
       "knowledge_of_local_online_resources                                 1146\n",
       "productivity_affected_by_mental_health                              1146\n",
       "percentage_work_time_affected_mental_health                         1229\n",
       "openess_of_family_friends                                              0\n",
       "family_history_mental_illness                                          0\n",
       "mental_health_disorder_past                                            0\n",
       "currently_mental_health_disorder                                       0\n",
       "diagnosed_mental_health_condition                                      0\n",
       "type_of_disorder                                                     722\n",
       "treatment_from_professional                                            0\n",
       "while_effective_treatment_mental_health_issue_i...                     0\n",
       "while_not_effective_treatment_interferes_work                          0\n",
       "age                                                                    0\n",
       "gender                                                                 3\n",
       "country                                                                0\n",
       "US state                                                             593\n",
       "country work                                                           0\n",
       "US state work                                                        582\n",
       "role_in_company                                                        0\n",
       "work_remotely                                                          0"
      ]
     },
     "execution_count": 8,
     "metadata": {},
     "output_type": "execute_result"
    }
   ],
   "source": [
    "## No of Missing values in different Columns\n",
    "columns=df_MHdata.columns\n",
    "pd.DataFrame({'no of missing values':df_MHdata.isnull().sum()})"
   ]
  },
  {
   "cell_type": "code",
   "execution_count": 9,
   "metadata": {
    "execution": {
     "iopub.execute_input": "2021-02-02T06:58:06.672601Z",
     "iopub.status.busy": "2021-02-02T06:58:06.671484Z",
     "iopub.status.idle": "2021-02-02T06:58:06.677039Z",
     "shell.execute_reply": "2021-02-02T06:58:06.676310Z"
    },
    "papermill": {
     "duration": 0.061267,
     "end_time": "2021-02-02T06:58:06.677210",
     "exception": false,
     "start_time": "2021-02-02T06:58:06.615943",
     "status": "completed"
    },
    "tags": []
   },
   "outputs": [],
   "source": [
    "## copy the dataset in df1\n",
    "df1=df_MHdata.copy()"
   ]
  },
  {
   "cell_type": "code",
   "execution_count": 10,
   "metadata": {
    "execution": {
     "iopub.execute_input": "2021-02-02T06:58:06.786248Z",
     "iopub.status.busy": "2021-02-02T06:58:06.785206Z",
     "iopub.status.idle": "2021-02-02T06:58:06.790240Z",
     "shell.execute_reply": "2021-02-02T06:58:06.789597Z"
    },
    "papermill": {
     "duration": 0.062558,
     "end_time": "2021-02-02T06:58:06.790407",
     "exception": false,
     "start_time": "2021-02-02T06:58:06.727849",
     "status": "completed"
    },
    "tags": []
   },
   "outputs": [],
   "source": [
    "## Drop the unnecessary colums \n",
    "cols = ['role_IT','knowledge_of_local_online_resources ',\n",
    "        'productivity_affected_by_mental_health ',\n",
    "        'percentage_work_time_affected_mental_health']\n",
    "df_red=df1.drop(cols,axis=1)"
   ]
  },
  {
   "cell_type": "markdown",
   "metadata": {
    "papermill": {
     "duration": 0.060855,
     "end_time": "2021-02-02T06:58:06.902406",
     "exception": false,
     "start_time": "2021-02-02T06:58:06.841551",
     "status": "completed"
    },
    "tags": []
   },
   "source": [
    "#### 2.1 Cleaning Different Columns"
   ]
  },
  {
   "cell_type": "code",
   "execution_count": 11,
   "metadata": {
    "execution": {
     "iopub.execute_input": "2021-02-02T06:58:07.042881Z",
     "iopub.status.busy": "2021-02-02T06:58:07.041855Z",
     "iopub.status.idle": "2021-02-02T06:58:07.046741Z",
     "shell.execute_reply": "2021-02-02T06:58:07.046241Z"
    },
    "papermill": {
     "duration": 0.081565,
     "end_time": "2021-02-02T06:58:07.046886",
     "exception": false,
     "start_time": "2021-02-02T06:58:06.965321",
     "status": "completed"
    },
    "tags": []
   },
   "outputs": [
    {
     "data": {
      "text/plain": [
       "array(['1 to 5', '6 to 25', '26-99', '100-500', '26-100', '500-1000',\n",
       "       'More than 1000', nan], dtype=object)"
      ]
     },
     "execution_count": 11,
     "metadata": {},
     "output_type": "execute_result"
    }
   ],
   "source": [
    "## No of Employees column\n",
    "df_red.no_of_employees.unique()"
   ]
  },
  {
   "cell_type": "code",
   "execution_count": 12,
   "metadata": {
    "execution": {
     "iopub.execute_input": "2021-02-02T06:58:07.164182Z",
     "iopub.status.busy": "2021-02-02T06:58:07.163518Z",
     "iopub.status.idle": "2021-02-02T06:58:07.166438Z",
     "shell.execute_reply": "2021-02-02T06:58:07.166971Z"
    },
    "papermill": {
     "duration": 0.060905,
     "end_time": "2021-02-02T06:58:07.167162",
     "exception": false,
     "start_time": "2021-02-02T06:58:07.106257",
     "status": "completed"
    },
    "tags": []
   },
   "outputs": [],
   "source": [
    "df_red.no_of_employees.replace(to_replace=['1 to 5', '6 to 25','More than 1000','26-99'],\n",
    "                                value=['1-5','6-25','>1000','26-100'],inplace=True)"
   ]
  },
  {
   "cell_type": "code",
   "execution_count": 13,
   "metadata": {
    "execution": {
     "iopub.execute_input": "2021-02-02T06:58:07.278744Z",
     "iopub.status.busy": "2021-02-02T06:58:07.278064Z",
     "iopub.status.idle": "2021-02-02T06:58:07.281205Z",
     "shell.execute_reply": "2021-02-02T06:58:07.281734Z"
    },
    "papermill": {
     "duration": 0.062019,
     "end_time": "2021-02-02T06:58:07.281904",
     "exception": false,
     "start_time": "2021-02-02T06:58:07.219885",
     "status": "completed"
    },
    "tags": []
   },
   "outputs": [
    {
     "data": {
      "text/plain": [
       "26-100      326\n",
       ">1000       256\n",
       "100-500     248\n",
       "6-25        176\n",
       "500-1000     80\n",
       "1-5          60\n",
       "Name: no_of_employees, dtype: int64"
      ]
     },
     "execution_count": 13,
     "metadata": {},
     "output_type": "execute_result"
    }
   ],
   "source": [
    "df_red.no_of_employees.value_counts()"
   ]
  },
  {
   "cell_type": "code",
   "execution_count": 14,
   "metadata": {
    "execution": {
     "iopub.execute_input": "2021-02-02T06:58:07.387269Z",
     "iopub.status.busy": "2021-02-02T06:58:07.386599Z",
     "iopub.status.idle": "2021-02-02T06:58:07.392548Z",
     "shell.execute_reply": "2021-02-02T06:58:07.393151Z"
    },
    "papermill": {
     "duration": 0.060181,
     "end_time": "2021-02-02T06:58:07.393326",
     "exception": false,
     "start_time": "2021-02-02T06:58:07.333145",
     "status": "completed"
    },
    "tags": []
   },
   "outputs": [
    {
     "data": {
      "text/plain": [
       "array(['Yes', 'No', \"I don't know\", 'Not eligible for coverage / N/A',\n",
       "       nan], dtype=object)"
      ]
     },
     "execution_count": 14,
     "metadata": {},
     "output_type": "execute_result"
    }
   ],
   "source": [
    "## Cleaning Mental Health Care coverage column\n",
    "df_red.mental_healthcare_coverage.unique()"
   ]
  },
  {
   "cell_type": "code",
   "execution_count": 15,
   "metadata": {
    "execution": {
     "iopub.execute_input": "2021-02-02T06:58:07.505284Z",
     "iopub.status.busy": "2021-02-02T06:58:07.504589Z",
     "iopub.status.idle": "2021-02-02T06:58:07.507656Z",
     "shell.execute_reply": "2021-02-02T06:58:07.508167Z"
    },
    "papermill": {
     "duration": 0.063055,
     "end_time": "2021-02-02T06:58:07.508338",
     "exception": false,
     "start_time": "2021-02-02T06:58:07.445283",
     "status": "completed"
    },
    "tags": []
   },
   "outputs": [
    {
     "data": {
      "text/plain": [
       "array(['Yes', 'No', \"I don't know\", nan], dtype=object)"
      ]
     },
     "execution_count": 15,
     "metadata": {},
     "output_type": "execute_result"
    }
   ],
   "source": [
    "df_red.mental_healthcare_coverage.replace(to_replace=['Not eligible for coverage / N/A'],\n",
    "                                value='No',inplace=True)\n",
    "df_red.mental_healthcare_coverage.unique()"
   ]
  },
  {
   "cell_type": "code",
   "execution_count": 16,
   "metadata": {
    "execution": {
     "iopub.execute_input": "2021-02-02T06:58:07.617172Z",
     "iopub.status.busy": "2021-02-02T06:58:07.616488Z",
     "iopub.status.idle": "2021-02-02T06:58:07.622621Z",
     "shell.execute_reply": "2021-02-02T06:58:07.622032Z"
    },
    "papermill": {
     "duration": 0.061405,
     "end_time": "2021-02-02T06:58:07.622763",
     "exception": false,
     "start_time": "2021-02-02T06:58:07.561358",
     "status": "completed"
    },
    "tags": []
   },
   "outputs": [
    {
     "data": {
      "text/plain": [
       "array(['Somewhat open', 'Very open', 'Somewhat not open', 'Neutral',\n",
       "       'Not applicable to me (I do not have a mental illness)',\n",
       "       'Not open at all'], dtype=object)"
      ]
     },
     "execution_count": 16,
     "metadata": {},
     "output_type": "execute_result"
    }
   ],
   "source": [
    "## Cleaning openess_of_family_friends column\n",
    "df_red.openess_of_family_friends.unique()"
   ]
  },
  {
   "cell_type": "code",
   "execution_count": 17,
   "metadata": {
    "execution": {
     "iopub.execute_input": "2021-02-02T06:58:07.734614Z",
     "iopub.status.busy": "2021-02-02T06:58:07.733858Z",
     "iopub.status.idle": "2021-02-02T06:58:07.740302Z",
     "shell.execute_reply": "2021-02-02T06:58:07.740788Z"
    },
    "papermill": {
     "duration": 0.064155,
     "end_time": "2021-02-02T06:58:07.740970",
     "exception": false,
     "start_time": "2021-02-02T06:58:07.676815",
     "status": "completed"
    },
    "tags": []
   },
   "outputs": [
    {
     "data": {
      "text/plain": [
       "array(['Somewhat open', 'Very open', 'Somewhat not open', 'Neutral',\n",
       "       \"I don't know\", 'Not open at all'], dtype=object)"
      ]
     },
     "execution_count": 17,
     "metadata": {},
     "output_type": "execute_result"
    }
   ],
   "source": [
    "df_red.openess_of_family_friends.replace(to_replace=['Not applicable to me (I do not have a mental illness)']\n",
    "                                          ,value=\"I don't know\",inplace=True)\n",
    "df_red.openess_of_family_friends.unique()"
   ]
  },
  {
   "cell_type": "code",
   "execution_count": 18,
   "metadata": {
    "execution": {
     "iopub.execute_input": "2021-02-02T06:58:07.852034Z",
     "iopub.status.busy": "2021-02-02T06:58:07.851382Z",
     "iopub.status.idle": "2021-02-02T06:58:07.880271Z",
     "shell.execute_reply": "2021-02-02T06:58:07.879578Z"
    },
    "papermill": {
     "duration": 0.085638,
     "end_time": "2021-02-02T06:58:07.880448",
     "exception": false,
     "start_time": "2021-02-02T06:58:07.794810",
     "status": "completed"
    },
    "tags": []
   },
   "outputs": [],
   "source": [
    "## Cleaning the age column remove outliers\n",
    "med_age = df_red[(df_red['age'] >= 18) | (df_red['age'] <= 75)]['age'].median()\n",
    "df_red['age'].replace(to_replace = df_red[(df_red['age'] < 18) | (df_red['age'] > 75)]['age'].tolist(),\n",
    "                          value = med_age, inplace = True)"
   ]
  },
  {
   "cell_type": "code",
   "execution_count": 19,
   "metadata": {
    "execution": {
     "iopub.execute_input": "2021-02-02T06:58:07.995817Z",
     "iopub.status.busy": "2021-02-02T06:58:07.994868Z",
     "iopub.status.idle": "2021-02-02T06:58:07.998990Z",
     "shell.execute_reply": "2021-02-02T06:58:07.998499Z"
    },
    "papermill": {
     "duration": 0.064891,
     "end_time": "2021-02-02T06:58:07.999155",
     "exception": false,
     "start_time": "2021-02-02T06:58:07.934264",
     "status": "completed"
    },
    "tags": []
   },
   "outputs": [
    {
     "data": {
      "text/plain": [
       "array(['Male', 'male', 'F', 'Transitioned, M2F', 'Other/Transfeminine',\n",
       "       'M', 'female', 'm', 'Female', 'f', 'non-binary', 'woman', 'male ',\n",
       "       'Male ', 'Bigender', 'Genderfluid (born female)',\n",
       "       'male 9:1 female, roughly', 'Male (cis)', 'Other', 'Sex is male',\n",
       "       'genderqueer', 'Human', 'mail', 'Cis-woman',\n",
       "       'female-bodied; no feelings about gender', 'Transgender woman',\n",
       "       'Genderfluid', 'female ', 'Male/genderqueer', 'fem', 'Nonbinary',\n",
       "       ' Female', 'Female ', 'Genderqueer', nan, 'I identify as female.',\n",
       "       'fm', 'Cis female ', 'female/woman', 'Androgynous', 'man',\n",
       "       'nb masculine', 'Cisgender Female', 'Woman', 'Cis Male',\n",
       "       'Female or Multi-Gender Femme', 'Male.', 'Enby', 'Agender',\n",
       "       'Female (props for making this a freeform field, though)',\n",
       "       'cis man', 'Female assigned at birth ', 'Cis male', 'Man',\n",
       "       'none of your business', 'cis male', 'genderqueer woman', 'Queer',\n",
       "       'Dude', 'Male (trans, FtM)', 'cisdude', 'Genderflux demi-girl',\n",
       "       'Malr', 'mtf', 'Fluid',\n",
       "       \"I'm a man why didn't you make this a drop down question. You should of asked sex? And I would of answered yes please. Seriously how much text can this take? \",\n",
       "       'M|', 'human', 'Unicorn', 'AFAB', 'MALE'], dtype=object)"
      ]
     },
     "execution_count": 19,
     "metadata": {},
     "output_type": "execute_result"
    }
   ],
   "source": [
    "## Cleaning the gender column\n",
    "df_red.gender.unique()"
   ]
  },
  {
   "cell_type": "code",
   "execution_count": 20,
   "metadata": {
    "execution": {
     "iopub.execute_input": "2021-02-02T06:58:08.119384Z",
     "iopub.status.busy": "2021-02-02T06:58:08.117356Z",
     "iopub.status.idle": "2021-02-02T06:58:08.132137Z",
     "shell.execute_reply": "2021-02-02T06:58:08.132688Z"
    },
    "papermill": {
     "duration": 0.078649,
     "end_time": "2021-02-02T06:58:08.132865",
     "exception": false,
     "start_time": "2021-02-02T06:58:08.054216",
     "status": "completed"
    },
    "tags": []
   },
   "outputs": [],
   "source": [
    "df_red['gender'].replace(to_replace = ['Male', 'male', 'Male ', 'M', 'm',\n",
    "       'man', 'Cis male', 'Male.', 'male 9:1 female, roughly', 'Male (cis)', 'Man', 'Sex is male',\n",
    "       'cis male', 'Malr', 'Dude', \"I'm a man why didn't you make this a drop down question. You should of asked sex? And I would of answered yes please. Seriously how much text can this take? \",\n",
    "       'mail', 'M|', 'Male/genderqueer', 'male ',\n",
    "       'Cis Male', 'Male (trans, FtM)',\n",
    "       'cisdude', 'cis man', 'MALE'], value = 'male', inplace = True)\n",
    "df_red['gender'].replace(to_replace = ['Female', 'female', 'I identify as female.', 'female ',\n",
    "       'Female assigned at birth ', 'F', 'Woman', 'fm', 'f', 'Cis female ', 'Transitioned, M2F',\n",
    "       'Genderfluid (born female)', 'Female or Multi-Gender Femme', 'Female ', 'woman', 'female/woman',\n",
    "       'Cisgender Female', 'fem', 'Female (props for making this a freeform field, though)',\n",
    "       ' Female', 'Cis-woman', 'female-bodied; no feelings about gender',\n",
    "       'AFAB'], value = 'female', inplace = True)\n",
    "df_red['gender'].replace(to_replace = ['Bigender', 'non-binary', 'Other/Transfeminine',\n",
    "       'Androgynous', 'Other', 'nb masculine',\n",
    "       'none of your business', 'genderqueer', 'Human', 'Genderfluid',\n",
    "       'Enby', 'genderqueer woman', 'mtf', 'Queer', 'Agender', 'Fluid',\n",
    "       'Nonbinary', 'human', 'Unicorn', 'Genderqueer',\n",
    "       'Genderflux demi-girl', 'Transgender woman'], value = 'other', inplace = True)"
   ]
  },
  {
   "cell_type": "code",
   "execution_count": 21,
   "metadata": {
    "execution": {
     "iopub.execute_input": "2021-02-02T06:58:08.247773Z",
     "iopub.status.busy": "2021-02-02T06:58:08.246696Z",
     "iopub.status.idle": "2021-02-02T06:58:08.252459Z",
     "shell.execute_reply": "2021-02-02T06:58:08.251853Z"
    },
    "papermill": {
     "duration": 0.065355,
     "end_time": "2021-02-02T06:58:08.252623",
     "exception": false,
     "start_time": "2021-02-02T06:58:08.187268",
     "status": "completed"
    },
    "tags": []
   },
   "outputs": [
    {
     "data": {
      "text/plain": [
       "array(['male', 'female', 'other', nan], dtype=object)"
      ]
     },
     "execution_count": 21,
     "metadata": {},
     "output_type": "execute_result"
    }
   ],
   "source": [
    "df_red.gender.unique()"
   ]
  },
  {
   "cell_type": "code",
   "execution_count": 22,
   "metadata": {
    "execution": {
     "iopub.execute_input": "2021-02-02T06:58:08.370918Z",
     "iopub.status.busy": "2021-02-02T06:58:08.370220Z",
     "iopub.status.idle": "2021-02-02T06:58:08.382185Z",
     "shell.execute_reply": "2021-02-02T06:58:08.381591Z"
    },
    "papermill": {
     "duration": 0.07503,
     "end_time": "2021-02-02T06:58:08.382335",
     "exception": false,
     "start_time": "2021-02-02T06:58:08.307305",
     "status": "completed"
    },
    "tags": []
   },
   "outputs": [],
   "source": [
    "## Cleaning the role_in_company\n",
    "tech_list = []\n",
    "tech_list.append(df_red[df_red['role_in_company'].str.contains('Back-end')]['role_in_company'].tolist())\n",
    "tech_list.append(df_red[df_red['role_in_company'].str.contains('Front-end')]['role_in_company'].tolist())\n",
    "tech_list.append(df_red[df_red['role_in_company'].str.contains('Dev')]['role_in_company'].tolist())\n",
    "tech_list.append(df_red[df_red['role_in_company'].str.contains('DevOps')]['role_in_company'].tolist())\n",
    "flat_list = [item for sublist in tech_list for item in sublist]\n",
    "flat_list = list(dict.fromkeys(flat_list))"
   ]
  },
  {
   "cell_type": "code",
   "execution_count": 23,
   "metadata": {
    "execution": {
     "iopub.execute_input": "2021-02-02T06:58:08.506485Z",
     "iopub.status.busy": "2021-02-02T06:58:08.502979Z",
     "iopub.status.idle": "2021-02-02T06:58:08.554360Z",
     "shell.execute_reply": "2021-02-02T06:58:08.553624Z"
    },
    "papermill": {
     "duration": 0.117432,
     "end_time": "2021-02-02T06:58:08.554509",
     "exception": false,
     "start_time": "2021-02-02T06:58:08.437077",
     "status": "completed"
    },
    "tags": []
   },
   "outputs": [],
   "source": [
    "## Replace tech role=1 and other=0 in a new tech role operation\n",
    "df_red['tech_role']=df_red['role_in_company']\n",
    "df_red['tech_role'].replace(to_replace=flat_list,value=1,inplace=True)\n",
    "remain_list=df_red['tech_role'].unique()[1:]\n",
    "df_red['tech_role'].replace(to_replace=remain_list,value=0,inplace=True)"
   ]
  },
  {
   "cell_type": "code",
   "execution_count": 24,
   "metadata": {
    "execution": {
     "iopub.execute_input": "2021-02-02T06:58:08.669492Z",
     "iopub.status.busy": "2021-02-02T06:58:08.668821Z",
     "iopub.status.idle": "2021-02-02T06:58:08.675218Z",
     "shell.execute_reply": "2021-02-02T06:58:08.675816Z"
    },
    "papermill": {
     "duration": 0.066999,
     "end_time": "2021-02-02T06:58:08.675989",
     "exception": false,
     "start_time": "2021-02-02T06:58:08.608990",
     "status": "completed"
    },
    "tags": []
   },
   "outputs": [
    {
     "data": {
      "text/plain": [
       "1    1045\n",
       "0     388\n",
       "Name: tech_role, dtype: int64"
      ]
     },
     "execution_count": 24,
     "metadata": {},
     "output_type": "execute_result"
    }
   ],
   "source": [
    "df_red.tech_role.value_counts()"
   ]
  },
  {
   "cell_type": "code",
   "execution_count": 25,
   "metadata": {
    "execution": {
     "iopub.execute_input": "2021-02-02T06:58:08.792848Z",
     "iopub.status.busy": "2021-02-02T06:58:08.792215Z",
     "iopub.status.idle": "2021-02-02T06:58:08.795415Z",
     "shell.execute_reply": "2021-02-02T06:58:08.794866Z"
    },
    "papermill": {
     "duration": 0.064534,
     "end_time": "2021-02-02T06:58:08.795565",
     "exception": false,
     "start_time": "2021-02-02T06:58:08.731031",
     "status": "completed"
    },
    "tags": []
   },
   "outputs": [],
   "source": [
    "df_red=df_red.drop(['role_in_company'],axis=1)"
   ]
  },
  {
   "cell_type": "markdown",
   "metadata": {
    "papermill": {
     "duration": 0.054425,
     "end_time": "2021-02-02T06:58:08.905503",
     "exception": false,
     "start_time": "2021-02-02T06:58:08.851078",
     "status": "completed"
    },
    "tags": []
   },
   "source": [
    "#### 2.2 Handling Missing Values"
   ]
  },
  {
   "cell_type": "code",
   "execution_count": 26,
   "metadata": {
    "execution": {
     "iopub.execute_input": "2021-02-02T06:58:09.027927Z",
     "iopub.status.busy": "2021-02-02T06:58:09.026857Z",
     "iopub.status.idle": "2021-02-02T06:58:09.032018Z",
     "shell.execute_reply": "2021-02-02T06:58:09.031493Z"
    },
    "papermill": {
     "duration": 0.069677,
     "end_time": "2021-02-02T06:58:09.032189",
     "exception": false,
     "start_time": "2021-02-02T06:58:08.962512",
     "status": "completed"
    },
    "tags": []
   },
   "outputs": [],
   "source": [
    "df_rej=pd.concat([df_red['type_of_disorder'],df_red['US state'],df_red['US state work']],axis=1)\n",
    "df_red=df_red.drop(['type_of_disorder','US state','US state work'],axis=1)"
   ]
  },
  {
   "cell_type": "code",
   "execution_count": 27,
   "metadata": {
    "execution": {
     "iopub.execute_input": "2021-02-02T06:58:09.151898Z",
     "iopub.status.busy": "2021-02-02T06:58:09.151134Z",
     "iopub.status.idle": "2021-02-02T06:58:09.377664Z",
     "shell.execute_reply": "2021-02-02T06:58:09.376921Z"
    },
    "papermill": {
     "duration": 0.289242,
     "end_time": "2021-02-02T06:58:09.377840",
     "exception": false,
     "start_time": "2021-02-02T06:58:09.088598",
     "status": "completed"
    },
    "tags": []
   },
   "outputs": [],
   "source": [
    "from sklearn.impute import SimpleImputer\n",
    "imp = SimpleImputer(missing_values=np.nan, strategy='most_frequent')\n",
    "imp.fit(df_red)\n",
    "imp_data=pd.DataFrame(data=imp.transform(df_red),columns=df_red.columns)"
   ]
  },
  {
   "cell_type": "code",
   "execution_count": 28,
   "metadata": {
    "execution": {
     "iopub.execute_input": "2021-02-02T06:58:09.508218Z",
     "iopub.status.busy": "2021-02-02T06:58:09.497124Z",
     "iopub.status.idle": "2021-02-02T06:58:09.514464Z",
     "shell.execute_reply": "2021-02-02T06:58:09.513727Z"
    },
    "papermill": {
     "duration": 0.079901,
     "end_time": "2021-02-02T06:58:09.514634",
     "exception": false,
     "start_time": "2021-02-02T06:58:09.434733",
     "status": "completed"
    },
    "tags": []
   },
   "outputs": [
    {
     "data": {
      "text/html": [
       "<div>\n",
       "<style scoped>\n",
       "    .dataframe tbody tr th:only-of-type {\n",
       "        vertical-align: middle;\n",
       "    }\n",
       "\n",
       "    .dataframe tbody tr th {\n",
       "        vertical-align: top;\n",
       "    }\n",
       "\n",
       "    .dataframe thead th {\n",
       "        text-align: right;\n",
       "    }\n",
       "</style>\n",
       "<table border=\"1\" class=\"dataframe\">\n",
       "  <thead>\n",
       "    <tr style=\"text-align: right;\">\n",
       "      <th></th>\n",
       "      <th>0</th>\n",
       "    </tr>\n",
       "  </thead>\n",
       "  <tbody>\n",
       "    <tr>\n",
       "      <th>self_employed</th>\n",
       "      <td>0</td>\n",
       "    </tr>\n",
       "    <tr>\n",
       "      <th>no_of_employees</th>\n",
       "      <td>0</td>\n",
       "    </tr>\n",
       "    <tr>\n",
       "      <th>tech_company</th>\n",
       "      <td>0</td>\n",
       "    </tr>\n",
       "    <tr>\n",
       "      <th>mental_healthcare_coverage</th>\n",
       "      <td>0</td>\n",
       "    </tr>\n",
       "    <tr>\n",
       "      <th>knowledge_about_mental_healthcare_options_workplace</th>\n",
       "      <td>0</td>\n",
       "    </tr>\n",
       "    <tr>\n",
       "      <th>employer_discussed_mental_health</th>\n",
       "      <td>0</td>\n",
       "    </tr>\n",
       "    <tr>\n",
       "      <th>employer_offer_resources_to_learn_about_mental_health</th>\n",
       "      <td>0</td>\n",
       "    </tr>\n",
       "    <tr>\n",
       "      <th>medical_leave_from_work</th>\n",
       "      <td>0</td>\n",
       "    </tr>\n",
       "    <tr>\n",
       "      <th>comfortable_discussing_with_coworkers</th>\n",
       "      <td>0</td>\n",
       "    </tr>\n",
       "    <tr>\n",
       "      <th>employer_take_mental_health_seriously</th>\n",
       "      <td>0</td>\n",
       "    </tr>\n",
       "    <tr>\n",
       "      <th>openess_of_family_friends</th>\n",
       "      <td>0</td>\n",
       "    </tr>\n",
       "    <tr>\n",
       "      <th>family_history_mental_illness</th>\n",
       "      <td>0</td>\n",
       "    </tr>\n",
       "    <tr>\n",
       "      <th>mental_health_disorder_past</th>\n",
       "      <td>0</td>\n",
       "    </tr>\n",
       "    <tr>\n",
       "      <th>currently_mental_health_disorder</th>\n",
       "      <td>0</td>\n",
       "    </tr>\n",
       "    <tr>\n",
       "      <th>diagnosed_mental_health_condition</th>\n",
       "      <td>0</td>\n",
       "    </tr>\n",
       "    <tr>\n",
       "      <th>treatment_from_professional</th>\n",
       "      <td>0</td>\n",
       "    </tr>\n",
       "    <tr>\n",
       "      <th>while_effective_treatment_mental_health_issue_interferes_work</th>\n",
       "      <td>0</td>\n",
       "    </tr>\n",
       "    <tr>\n",
       "      <th>while_not_effective_treatment_interferes_work</th>\n",
       "      <td>0</td>\n",
       "    </tr>\n",
       "    <tr>\n",
       "      <th>age</th>\n",
       "      <td>0</td>\n",
       "    </tr>\n",
       "    <tr>\n",
       "      <th>gender</th>\n",
       "      <td>0</td>\n",
       "    </tr>\n",
       "    <tr>\n",
       "      <th>country</th>\n",
       "      <td>0</td>\n",
       "    </tr>\n",
       "    <tr>\n",
       "      <th>country work</th>\n",
       "      <td>0</td>\n",
       "    </tr>\n",
       "    <tr>\n",
       "      <th>work_remotely</th>\n",
       "      <td>0</td>\n",
       "    </tr>\n",
       "    <tr>\n",
       "      <th>tech_role</th>\n",
       "      <td>0</td>\n",
       "    </tr>\n",
       "    <tr>\n",
       "      <th>type_of_disorder</th>\n",
       "      <td>722</td>\n",
       "    </tr>\n",
       "    <tr>\n",
       "      <th>US state</th>\n",
       "      <td>593</td>\n",
       "    </tr>\n",
       "    <tr>\n",
       "      <th>US state work</th>\n",
       "      <td>582</td>\n",
       "    </tr>\n",
       "  </tbody>\n",
       "</table>\n",
       "</div>"
      ],
      "text/plain": [
       "                                                      0\n",
       "self_employed                                         0\n",
       "no_of_employees                                       0\n",
       "tech_company                                          0\n",
       "mental_healthcare_coverage                            0\n",
       "knowledge_about_mental_healthcare_options_workp...    0\n",
       "employer_discussed_mental_health                      0\n",
       "employer_offer_resources_to_learn_about_mental_...    0\n",
       "medical_leave_from_work                               0\n",
       "comfortable_discussing_with_coworkers                 0\n",
       "employer_take_mental_health_seriously                 0\n",
       "openess_of_family_friends                             0\n",
       "family_history_mental_illness                         0\n",
       "mental_health_disorder_past                           0\n",
       "currently_mental_health_disorder                      0\n",
       "diagnosed_mental_health_condition                     0\n",
       "treatment_from_professional                           0\n",
       "while_effective_treatment_mental_health_issue_i...    0\n",
       "while_not_effective_treatment_interferes_work         0\n",
       "age                                                   0\n",
       "gender                                                0\n",
       "country                                               0\n",
       "country work                                          0\n",
       "work_remotely                                         0\n",
       "tech_role                                             0\n",
       "type_of_disorder                                    722\n",
       "US state                                            593\n",
       "US state work                                       582"
      ]
     },
     "execution_count": 28,
     "metadata": {},
     "output_type": "execute_result"
    }
   ],
   "source": [
    "df_eda=pd.concat([imp_data,df_rej],axis=1)\n",
    "df_eda.isnull().sum().to_frame()"
   ]
  },
  {
   "cell_type": "markdown",
   "metadata": {
    "papermill": {
     "duration": 0.057261,
     "end_time": "2021-02-02T06:58:09.629179",
     "exception": false,
     "start_time": "2021-02-02T06:58:09.571918",
     "status": "completed"
    },
    "tags": []
   },
   "source": [
    "## 3. EDA"
   ]
  },
  {
   "cell_type": "markdown",
   "metadata": {
    "papermill": {
     "duration": 0.056924,
     "end_time": "2021-02-02T06:58:09.743623",
     "exception": false,
     "start_time": "2021-02-02T06:58:09.686699",
     "status": "completed"
    },
    "tags": []
   },
   "source": [
    "##### A. Questions with regard to the Target: \n",
    "1. If a person is self employed then is there a higher chance of mental disorder?\n",
    "2. Does big size of the company affect your mental health condition adversely?\n",
    "3. Does working in a tech company affect adversely to your mental well being?\n",
    "4. Does the employers discussion on mental health reduces the chance of getting postive diagonised?\n",
    "5. Will offering more options to learn about mental health reduces the chance of getting positive?\n",
    "6. Does providing no leaves increases the less reporting of mental health issues?\n",
    "9. Does discussion with coworkers about mental health care reduces the chance of positive diagonosis?\n",
    "10. If Employer takes mental health seriously, then will it reduce the chance of positive diagonosis?\n",
    "11. If family friends are open about the mental health then will it reduce the positive diagonosis?\n",
    "12. What are the chances that if a person having family history of mental illness then he is diagonised positive?\n",
    "13. Does having mental illness of the past affect the diagonosis?\n",
    "14. Is self proclaimed mental health disorders increases the chances of being diagonised positively?\n",
    "15. How many of those who has diagonised positively will seek help of professional?\n",
    "16. If one is diagonised positive how effective and not effective medication affecting the individual?\n",
    "17. Is the chances of getting positively diagonised increases with age?\n",
    "18. Is there any chance that a other gender category is more positively diagonised than other gender categories?\n",
    "19. Country wise positive disorder cases?\n",
    "20. Statewise positive disorder cases in USA?\n",
    "21. Does working other than home country increases more chances of disorder?\n",
    "22. Does being involved in tech role increases chances of diagonised positive?\n",
    "23. Will working remotely helps to better the mental health condition?\n",
    "24. Does a person in tech role in tech company has higher chance of diagonosis than a tech role in non tech company?"
   ]
  },
  {
   "cell_type": "markdown",
   "metadata": {
    "papermill": {
     "duration": 0.059031,
     "end_time": "2021-02-02T06:58:09.861189",
     "exception": false,
     "start_time": "2021-02-02T06:58:09.802158",
     "status": "completed"
    },
    "tags": []
   },
   "source": [
    "#####  B. Questions other than Target:\n",
    "\n",
    "1. For self employed does the past mental disorder more than those who are not self employed?\n",
    "3. Does self employed people shy away to seek help?\n",
    "4. Is the large company is more serious about mental health than small companies?\n",
    "5. Does openess about the mental health varies with size of the companies?\n",
    "8. Does the tech companies take mental health seriously than other non tech companies?\n",
    "9. Does providing more health care benefits provide seeking for professional health?\n",
    "10. Does providing more information about mental health increase help seeking behaviour?\n",
    "14. The family where there are history mental health isssues are they open about discussing among family?\n",
    "16. Does willing ness among family memebers increases the chance of seeking more professional help?\n",
    "17. Which kind of discorder occur most?\n",
    "18. Does seeking for professional help to reduce the work stress if they are under effective medication?\n",
    "19. Does teenage people less seek out for help than the elderly ones?\n",
    " "
   ]
  },
  {
   "cell_type": "code",
   "execution_count": 29,
   "metadata": {
    "execution": {
     "iopub.execute_input": "2021-02-02T06:58:09.982930Z",
     "iopub.status.busy": "2021-02-02T06:58:09.982283Z",
     "iopub.status.idle": "2021-02-02T06:58:10.181292Z",
     "shell.execute_reply": "2021-02-02T06:58:10.180615Z"
    },
    "papermill": {
     "duration": 0.259677,
     "end_time": "2021-02-02T06:58:10.181452",
     "exception": false,
     "start_time": "2021-02-02T06:58:09.921775",
     "status": "completed"
    },
    "tags": []
   },
   "outputs": [
    {
     "data": {
      "text/plain": [
       "([<matplotlib.patches.Wedge at 0x7f1c90d28f90>,\n",
       "  <matplotlib.patches.Wedge at 0x7f1c90d3a890>],\n",
       " [Text(-0.018092161764598828, 1.0998512052467295, 'No'),\n",
       "  Text(0.01809216176459845, -1.0998512052467295, 'Yes')],\n",
       " [Text(-0.00986845187159936, 0.5999188392254888, '50.523561%'),\n",
       "  Text(0.009868451871599154, -0.5999188392254888, '49.476439%')])"
      ]
     },
     "execution_count": 29,
     "metadata": {},
     "output_type": "execute_result"
    },
    {
     "data": {
      "image/png": "[encoded data removed]",
      "text/plain": [
       "<Figure size 432x288 with 2 Axes>"
      ]
     },
     "metadata": {},
     "output_type": "display_data"
    }
   ],
   "source": [
    "## A.1 \n",
    "plt.subplot(1,2,1)\n",
    "plt.title(\"for self employed\")\n",
    "plt.pie(df_eda[df_eda.self_employed==1]['diagnosed_mental_health_condition'].value_counts(),\n",
    "       autopct='%1f%%',radius=1, \n",
    "       labels=df_eda[df_eda.self_employed==1]['diagnosed_mental_health_condition'].value_counts().index)\n",
    "\n",
    "plt.subplot(1,2,2)\n",
    "plt.title(\"for not self employed\")\n",
    "plt.pie(df_eda[df_eda.self_employed==0]['diagnosed_mental_health_condition'].value_counts(),\n",
    "       autopct='%1f%%',radius=1, \n",
    "       labels=df_eda[df_eda.self_employed==0]['diagnosed_mental_health_condition'].value_counts().index)"
   ]
  },
  {
   "cell_type": "code",
   "execution_count": 30,
   "metadata": {
    "execution": {
     "iopub.execute_input": "2021-02-02T06:58:10.305047Z",
     "iopub.status.busy": "2021-02-02T06:58:10.303649Z",
     "iopub.status.idle": "2021-02-02T06:58:10.521640Z",
     "shell.execute_reply": "2021-02-02T06:58:10.520603Z"
    },
    "papermill": {
     "duration": 0.282749,
     "end_time": "2021-02-02T06:58:10.521805",
     "exception": false,
     "start_time": "2021-02-02T06:58:10.239056",
     "status": "completed"
    },
    "tags": []
   },
   "outputs": [
    {
     "data": {
      "text/plain": [
       "Text(0.5, 1.0, 'Mental health in different size companies')"
      ]
     },
     "execution_count": 30,
     "metadata": {},
     "output_type": "execute_result"
    },
    {
     "data": {
      "image/png": "[encoded data removed]",
      "text/plain": [
       "<Figure size 432x288 with 1 Axes>"
      ]
     },
     "metadata": {
      "needs_background": "light"
     },
     "output_type": "display_data"
    }
   ],
   "source": [
    "##A.2\n",
    "sns.countplot(data=df_eda,x='no_of_employees',hue='diagnosed_mental_health_condition')\n",
    "plt.title('Mental health in different size companies')"
   ]
  },
  {
   "cell_type": "code",
   "execution_count": 31,
   "metadata": {
    "execution": {
     "iopub.execute_input": "2021-02-02T06:58:10.657068Z",
     "iopub.status.busy": "2021-02-02T06:58:10.649260Z",
     "iopub.status.idle": "2021-02-02T06:58:10.808778Z",
     "shell.execute_reply": "2021-02-02T06:58:10.808210Z"
    },
    "papermill": {
     "duration": 0.227102,
     "end_time": "2021-02-02T06:58:10.808925",
     "exception": false,
     "start_time": "2021-02-02T06:58:10.581823",
     "status": "completed"
    },
    "tags": []
   },
   "outputs": [
    {
     "data": {
      "text/plain": [
       "([<matplotlib.patches.Wedge at 0x7f1c90b087d0>,\n",
       "  <matplotlib.patches.Wedge at 0x7f1c90b16f90>],\n",
       " [Text(-0.019708651065785975, 1.0998234263158642, 'Yes'),\n",
       "  Text(0.019708754038686934, -1.0998234244706022, 'No')],\n",
       " [Text(-0.01075017330861053, 0.5999036870813804, '50.570345%'),\n",
       "  Text(0.010750229475647417, -0.5999036860748739, '49.429658%')])"
      ]
     },
     "execution_count": 31,
     "metadata": {},
     "output_type": "execute_result"
    },
    {
     "data": {
      "image/png": "[encoded data removed]",
      "text/plain": [
       "<Figure size 432x288 with 2 Axes>"
      ]
     },
     "metadata": {},
     "output_type": "display_data"
    }
   ],
   "source": [
    "##A.3\n",
    "plt.subplot(1,2,1)\n",
    "plt.title(\"Tech company\")\n",
    "plt.pie(df_eda[df_eda.tech_company==1]['diagnosed_mental_health_condition'].value_counts(),\n",
    "       autopct='%1f%%',radius=1, \n",
    "       labels=df_eda[df_eda.tech_company==1]['diagnosed_mental_health_condition'].value_counts().index)\n",
    "\n",
    "plt.subplot(1,2,2)\n",
    "plt.title(\"Non Tech company\")\n",
    "plt.pie(df_eda[df_eda.tech_company==0]['diagnosed_mental_health_condition'].value_counts(),\n",
    "       autopct='%1f%%',radius=1,\n",
    "       labels=df_eda[df_eda.tech_company==0]['diagnosed_mental_health_condition'].value_counts().index)"
   ]
  },
  {
   "cell_type": "code",
   "execution_count": 32,
   "metadata": {
    "execution": {
     "iopub.execute_input": "2021-02-02T06:58:10.939053Z",
     "iopub.status.busy": "2021-02-02T06:58:10.938385Z",
     "iopub.status.idle": "2021-02-02T06:58:11.110193Z",
     "shell.execute_reply": "2021-02-02T06:58:11.110725Z"
    },
    "papermill": {
     "duration": 0.24016,
     "end_time": "2021-02-02T06:58:11.110901",
     "exception": false,
     "start_time": "2021-02-02T06:58:10.870741",
     "status": "completed"
    },
    "tags": []
   },
   "outputs": [
    {
     "data": {
      "text/plain": [
       "Text(0.5, 1.0, 'Mental health Discussion vs Daignostic Counts')"
      ]
     },
     "execution_count": 32,
     "metadata": {},
     "output_type": "execute_result"
    },
    {
     "data": {
      "image/png": "[encoded data removed]",
      "text/plain": [
       "<Figure size 432x288 with 1 Axes>"
      ]
     },
     "metadata": {
      "needs_background": "light"
     },
     "output_type": "display_data"
    }
   ],
   "source": [
    "##A.4\n",
    "sns.countplot(data=df_eda,x='employer_discussed_mental_health ',hue='diagnosed_mental_health_condition')\n",
    "plt.title('Mental health Discussion vs Daignostic Counts')"
   ]
  },
  {
   "cell_type": "code",
   "execution_count": 33,
   "metadata": {
    "execution": {
     "iopub.execute_input": "2021-02-02T06:58:11.237385Z",
     "iopub.status.busy": "2021-02-02T06:58:11.236710Z",
     "iopub.status.idle": "2021-02-02T06:58:11.427588Z",
     "shell.execute_reply": "2021-02-02T06:58:11.428102Z"
    },
    "papermill": {
     "duration": 0.255456,
     "end_time": "2021-02-02T06:58:11.428275",
     "exception": false,
     "start_time": "2021-02-02T06:58:11.172819",
     "status": "completed"
    },
    "tags": []
   },
   "outputs": [
    {
     "data": {
      "text/plain": [
       "Text(0.5, 1.0, 'Mental health Resource offering vs Daignostic Counts')"
      ]
     },
     "execution_count": 33,
     "metadata": {},
     "output_type": "execute_result"
    },
    {
     "data": {
      "image/png": "[encoded data removed]",
      "text/plain": [
       "<Figure size 432x288 with 1 Axes>"
      ]
     },
     "metadata": {
      "needs_background": "light"
     },
     "output_type": "display_data"
    }
   ],
   "source": [
    "##A.5\n",
    "sns.countplot(data=df_eda,x='employer_offer_resources_to_learn_about_mental_health',hue='diagnosed_mental_health_condition')\n",
    "plt.title('Mental health Resource offering vs Daignostic Counts')"
   ]
  },
  {
   "cell_type": "code",
   "execution_count": 34,
   "metadata": {
    "execution": {
     "iopub.execute_input": "2021-02-02T06:58:11.565001Z",
     "iopub.status.busy": "2021-02-02T06:58:11.562600Z",
     "iopub.status.idle": "2021-02-02T06:58:11.796734Z",
     "shell.execute_reply": "2021-02-02T06:58:11.797311Z"
    },
    "papermill": {
     "duration": 0.306562,
     "end_time": "2021-02-02T06:58:11.797495",
     "exception": false,
     "start_time": "2021-02-02T06:58:11.490933",
     "status": "completed"
    },
    "tags": []
   },
   "outputs": [
    {
     "data": {
      "text/plain": [
       "Text(0.5, 1.0, 'Asking for Leave vs Daignostic Counts')"
      ]
     },
     "execution_count": 34,
     "metadata": {},
     "output_type": "execute_result"
    },
    {
     "data": {
      "image/png": "[encoded data removed]",
      "text/plain": [
       "<Figure size 720x720 with 1 Axes>"
      ]
     },
     "metadata": {
      "needs_background": "light"
     },
     "output_type": "display_data"
    }
   ],
   "source": [
    "##A.6\n",
    "plt.figure(figsize=(10,10))\n",
    "sns.countplot(data=df_eda,x='medical_leave_from_work ',hue='diagnosed_mental_health_condition')\n",
    "plt.title('Asking for Leave vs Daignostic Counts')"
   ]
  },
  {
   "cell_type": "code",
   "execution_count": 35,
   "metadata": {
    "execution": {
     "iopub.execute_input": "2021-02-02T06:58:11.936300Z",
     "iopub.status.busy": "2021-02-02T06:58:11.935640Z",
     "iopub.status.idle": "2021-02-02T06:58:12.119969Z",
     "shell.execute_reply": "2021-02-02T06:58:12.120540Z"
    },
    "papermill": {
     "duration": 0.258845,
     "end_time": "2021-02-02T06:58:12.120746",
     "exception": false,
     "start_time": "2021-02-02T06:58:11.861901",
     "status": "completed"
    },
    "tags": []
   },
   "outputs": [
    {
     "data": {
      "text/plain": [
       "Text(0.5, 1.0, 'Discussion with co-workers vs Daignostic Counts')"
      ]
     },
     "execution_count": 35,
     "metadata": {},
     "output_type": "execute_result"
    },
    {
     "data": {
      "image/png": "[encoded data removed]",
      "text/plain": [
       "<Figure size 432x288 with 1 Axes>"
      ]
     },
     "metadata": {
      "needs_background": "light"
     },
     "output_type": "display_data"
    }
   ],
   "source": [
    "##A.7\n",
    "sns.countplot(data=df_eda,x='comfortable_discussing_with_coworkers',hue='diagnosed_mental_health_condition')\n",
    "plt.title('Discussion with co-workers vs Daignostic Counts')"
   ]
  },
  {
   "cell_type": "code",
   "execution_count": 36,
   "metadata": {
    "execution": {
     "iopub.execute_input": "2021-02-02T06:58:12.257697Z",
     "iopub.status.busy": "2021-02-02T06:58:12.256929Z",
     "iopub.status.idle": "2021-02-02T06:58:12.447534Z",
     "shell.execute_reply": "2021-02-02T06:58:12.448122Z"
    },
    "papermill": {
     "duration": 0.261278,
     "end_time": "2021-02-02T06:58:12.448348",
     "exception": false,
     "start_time": "2021-02-02T06:58:12.187070",
     "status": "completed"
    },
    "tags": []
   },
   "outputs": [
    {
     "data": {
      "text/plain": [
       "Text(0.5, 1.0, 'Employers seriousness vs Daignostic Counts')"
      ]
     },
     "execution_count": 36,
     "metadata": {},
     "output_type": "execute_result"
    },
    {
     "data": {
      "image/png": "[encoded data removed]",
      "text/plain": [
       "<Figure size 432x288 with 1 Axes>"
      ]
     },
     "metadata": {
      "needs_background": "light"
     },
     "output_type": "display_data"
    }
   ],
   "source": [
    "##A.8\n",
    "sns.countplot(data=df_eda,x='employer_take_mental_health_seriously',hue='diagnosed_mental_health_condition')\n",
    "plt.title('Employers seriousness vs Daignostic Counts')"
   ]
  },
  {
   "cell_type": "code",
   "execution_count": 37,
   "metadata": {
    "execution": {
     "iopub.execute_input": "2021-02-02T06:58:12.588571Z",
     "iopub.status.busy": "2021-02-02T06:58:12.587807Z",
     "iopub.status.idle": "2021-02-02T06:58:12.819624Z",
     "shell.execute_reply": "2021-02-02T06:58:12.820218Z"
    },
    "papermill": {
     "duration": 0.303825,
     "end_time": "2021-02-02T06:58:12.820433",
     "exception": false,
     "start_time": "2021-02-02T06:58:12.516608",
     "status": "completed"
    },
    "tags": []
   },
   "outputs": [
    {
     "data": {
      "text/plain": [
       "Text(0.5, 1.0, 'Openess of Family&Friends vs Daignostic Counts')"
      ]
     },
     "execution_count": 37,
     "metadata": {},
     "output_type": "execute_result"
    },
    {
     "data": {
      "image/png": "[encoded data removed]",
      "text/plain": [
       "<Figure size 576x576 with 1 Axes>"
      ]
     },
     "metadata": {
      "needs_background": "light"
     },
     "output_type": "display_data"
    }
   ],
   "source": [
    "##A.9\n",
    "plt.figure(figsize=(8,8))\n",
    "sns.countplot(data=df_eda,x='openess_of_family_friends',hue='diagnosed_mental_health_condition')\n",
    "plt.title('Openess of Family&Friends vs Daignostic Counts')"
   ]
  },
  {
   "cell_type": "code",
   "execution_count": 38,
   "metadata": {
    "execution": {
     "iopub.execute_input": "2021-02-02T06:58:12.964296Z",
     "iopub.status.busy": "2021-02-02T06:58:12.963534Z",
     "iopub.status.idle": "2021-02-02T06:58:13.129670Z",
     "shell.execute_reply": "2021-02-02T06:58:13.130300Z"
    },
    "papermill": {
     "duration": 0.239946,
     "end_time": "2021-02-02T06:58:13.130501",
     "exception": false,
     "start_time": "2021-02-02T06:58:12.890555",
     "status": "completed"
    },
    "tags": []
   },
   "outputs": [
    {
     "data": {
      "text/plain": [
       "Text(0.5, 1.0, 'Family History vs Daignostic Counts')"
      ]
     },
     "execution_count": 38,
     "metadata": {},
     "output_type": "execute_result"
    },
    {
     "data": {
      "image/png": "[encoded data removed]",
      "text/plain": [
       "<Figure size 432x288 with 1 Axes>"
      ]
     },
     "metadata": {
      "needs_background": "light"
     },
     "output_type": "display_data"
    }
   ],
   "source": [
    "##A.10\n",
    "sns.countplot(data=df_eda,x='family_history_mental_illness',hue='diagnosed_mental_health_condition')\n",
    "plt.title('Family History vs Daignostic Counts')"
   ]
  },
  {
   "cell_type": "code",
   "execution_count": 39,
   "metadata": {
    "execution": {
     "iopub.execute_input": "2021-02-02T06:58:13.273619Z",
     "iopub.status.busy": "2021-02-02T06:58:13.272882Z",
     "iopub.status.idle": "2021-02-02T06:58:13.455903Z",
     "shell.execute_reply": "2021-02-02T06:58:13.456546Z"
    },
    "papermill": {
     "duration": 0.256233,
     "end_time": "2021-02-02T06:58:13.456732",
     "exception": false,
     "start_time": "2021-02-02T06:58:13.200499",
     "status": "completed"
    },
    "tags": []
   },
   "outputs": [
    {
     "data": {
      "text/plain": [
       "([<matplotlib.patches.Wedge at 0x7f1c906db410>,\n",
       "  <matplotlib.patches.Wedge at 0x7f1c906e8bd0>],\n",
       " [Text(-1.0833623634614518, 0.19059378120814285, 'No'),\n",
       "  Text(1.083362359000282, -0.19059380656606933, 'Yes')],\n",
       " [Text(-0.5909249255244282, 0.10396024429535064, '94.456762%'),\n",
       "  Text(0.5909249230910628, -0.10396025812694691, '5.543237%')])"
      ]
     },
     "execution_count": 39,
     "metadata": {},
     "output_type": "execute_result"
    },
    {
     "data": {
      "image/png": "[encoded data removed]",
      "text/plain": [
       "<Figure size 720x720 with 2 Axes>"
      ]
     },
     "metadata": {},
     "output_type": "display_data"
    }
   ],
   "source": [
    "##A.11\n",
    "plt.figure(figsize=(10,10))\n",
    "plt.subplot(1,2,1)\n",
    "plt.title(\"Had past mental illness\")\n",
    "plt.pie(df_eda[df_eda.mental_health_disorder_past=='Yes']['diagnosed_mental_health_condition'].value_counts(),\n",
    "       autopct='%1f%%',radius=1,\n",
    "       labels=df_eda[df_eda.mental_health_disorder_past=='Yes']['diagnosed_mental_health_condition'].value_counts().index)\n",
    "\n",
    "plt.subplot(1,2,2)\n",
    "plt.title(\"Did Not had mental illness of past\")\n",
    "plt.pie(df_eda[df_eda.mental_health_disorder_past=='No']['diagnosed_mental_health_condition'].value_counts(),\n",
    "       autopct='%1f%%',radius=1,\n",
    "       labels=df_eda[df_eda.mental_health_disorder_past=='No']['diagnosed_mental_health_condition'].value_counts().index)"
   ]
  },
  {
   "cell_type": "code",
   "execution_count": 40,
   "metadata": {
    "execution": {
     "iopub.execute_input": "2021-02-02T06:58:13.603697Z",
     "iopub.status.busy": "2021-02-02T06:58:13.602897Z",
     "iopub.status.idle": "2021-02-02T06:58:13.884011Z",
     "shell.execute_reply": "2021-02-02T06:58:13.884555Z"
    },
    "papermill": {
     "duration": 0.35646,
     "end_time": "2021-02-02T06:58:13.884737",
     "exception": false,
     "start_time": "2021-02-02T06:58:13.528277",
     "status": "completed"
    },
    "tags": []
   },
   "outputs": [
    {
     "data": {
      "text/plain": [
       "Text(0.5, 1.0, 'Self proclaimed disorder vs Daignostic Counts')"
      ]
     },
     "execution_count": 40,
     "metadata": {},
     "output_type": "execute_result"
    },
    {
     "data": {
      "image/png": "[encoded data removed]",
      "text/plain": [
       "<Figure size 432x288 with 1 Axes>"
      ]
     },
     "metadata": {
      "needs_background": "light"
     },
     "output_type": "display_data"
    }
   ],
   "source": [
    "##A.12\n",
    "sns.countplot(data=df_eda,x='currently_mental_health_disorder',hue='diagnosed_mental_health_condition')\n",
    "plt.title('Self proclaimed disorder vs Daignostic Counts')"
   ]
  },
  {
   "cell_type": "code",
   "execution_count": 41,
   "metadata": {
    "execution": {
     "iopub.execute_input": "2021-02-02T06:58:14.054042Z",
     "iopub.status.busy": "2021-02-02T06:58:14.052950Z",
     "iopub.status.idle": "2021-02-02T06:58:14.222925Z",
     "shell.execute_reply": "2021-02-02T06:58:14.223633Z"
    },
    "papermill": {
     "duration": 0.266645,
     "end_time": "2021-02-02T06:58:14.223816",
     "exception": false,
     "start_time": "2021-02-02T06:58:13.957171",
     "status": "completed"
    },
    "tags": []
   },
   "outputs": [
    {
     "data": {
      "text/plain": [
       "([<matplotlib.patches.Wedge at 0x7f1c90952810>,\n",
       "  <matplotlib.patches.Wedge at 0x7f1c908c11d0>],\n",
       " [Text(-1.0754761146685294, 0.2309786283998678, 'No'),\n",
       "  Text(1.0754761092620841, -0.23097865357320332, 'Yes')],\n",
       " [Text(-0.5866233352737433, 0.12598834276356424, '93.265992%'),\n",
       "  Text(0.5866233323247732, -0.1259883564944745, '6.734007%')])"
      ]
     },
     "execution_count": 41,
     "metadata": {},
     "output_type": "execute_result"
    },
    {
     "data": {
      "image/png": "[encoded data removed]",
      "text/plain": [
       "<Figure size 720x720 with 2 Axes>"
      ]
     },
     "metadata": {},
     "output_type": "display_data"
    }
   ],
   "source": [
    "##A.13\n",
    "plt.figure(figsize=(10,10))\n",
    "plt.subplot(1,2,1)\n",
    "plt.title(\"Taking Help from professional\")\n",
    "plt.pie(df_eda[df_eda.treatment_from_professional==1]['diagnosed_mental_health_condition'].value_counts(),\n",
    "       autopct='%1f%%',radius=1,\n",
    "       labels=df_eda[df_eda.treatment_from_professional==1]['diagnosed_mental_health_condition'].value_counts().index)\n",
    "\n",
    "plt.subplot(1,2,2)\n",
    "plt.title(\"Not taking help from professional\")\n",
    "plt.pie(df_eda[df_eda.treatment_from_professional==0]['diagnosed_mental_health_condition'].value_counts(),\n",
    "       autopct='%1f%%',radius=1,\n",
    "       labels=df_eda[df_eda.treatment_from_professional==0]['diagnosed_mental_health_condition'].value_counts().index)"
   ]
  },
  {
   "cell_type": "code",
   "execution_count": 42,
   "metadata": {
    "execution": {
     "iopub.execute_input": "2021-02-02T06:58:14.403342Z",
     "iopub.status.busy": "2021-02-02T06:58:14.397545Z",
     "iopub.status.idle": "2021-02-02T06:58:14.624456Z",
     "shell.execute_reply": "2021-02-02T06:58:14.623777Z"
    },
    "papermill": {
     "duration": 0.326093,
     "end_time": "2021-02-02T06:58:14.624601",
     "exception": false,
     "start_time": "2021-02-02T06:58:14.298508",
     "status": "completed"
    },
    "tags": []
   },
   "outputs": [
    {
     "data": {
      "text/plain": [
       "([<matplotlib.patches.Wedge at 0x7f1c90572310>,\n",
       "  <matplotlib.patches.Wedge at 0x7f1c9057ead0>,\n",
       "  <matplotlib.patches.Wedge at 0x7f1c9050c310>,\n",
       "  <matplotlib.patches.Wedge at 0x7f1c9050cb50>,\n",
       "  <matplotlib.patches.Wedge at 0x7f1c90518450>],\n",
       " [Text(-0.387286831783129, 1.0295673411328599, 'Often'),\n",
       "  Text(0.11082048010455826, -1.0944034087983259, 'Sometimes'),\n",
       "  Text(1.0153415504745185, -0.4231802640483144, 'Rarely'),\n",
       "  Text(1.0863057567337249, -0.1730312194003421, 'Not applicable to me'),\n",
       "  Text(1.0997352976415675, -0.02413037756051461, 'Never')],\n",
       " [Text(-0.21124736279079762, 0.5615821860724689, '61.452514%'),\n",
       "  Text(0.06044753460248632, -0.5969473138899958, '30.307263%'),\n",
       "  Text(0.5538226638951919, -0.2308255985718078, '3.910615%'),\n",
       "  Text(0.5925304127638499, -0.09438066512745932, '3.631285%'),\n",
       "  Text(0.5998556168954003, -0.013162024123917057, '0.698324%')])"
      ]
     },
     "execution_count": 42,
     "metadata": {},
     "output_type": "execute_result"
    },
    {
     "data": {
      "image/png": "[encoded data removed]",
      "text/plain": [
       "<Figure size 720x720 with 2 Axes>"
      ]
     },
     "metadata": {},
     "output_type": "display_data"
    }
   ],
   "source": [
    "##A.14\n",
    "plt.figure(figsize=(10,10))\n",
    "plt.subplot(1,2,1)\n",
    "plt.title(\"Positive diagnosed under effective medication\")\n",
    "plt.pie(df_eda[df_eda.diagnosed_mental_health_condition=='Yes']['while_effective_treatment_mental_health_issue_interferes_work'].value_counts(),\n",
    "       autopct='%1f%%',radius=1,\n",
    "       labels=df_eda[df_eda.diagnosed_mental_health_condition=='Yes']['while_effective_treatment_mental_health_issue_interferes_work'].value_counts().index)\n",
    "\n",
    "plt.subplot(1,2,2)\n",
    "plt.title(\"Positive diagnosed under not-effective medication\")\n",
    "plt.pie(df_eda[df_eda.diagnosed_mental_health_condition=='Yes']['while_not_effective_treatment_interferes_work '].value_counts(),\n",
    "       autopct='%1f%%',radius=1,\n",
    "       labels=df_eda[df_eda.diagnosed_mental_health_condition=='Yes']['while_not_effective_treatment_interferes_work '].value_counts().index)"
   ]
  },
  {
   "cell_type": "code",
   "execution_count": 43,
   "metadata": {
    "execution": {
     "iopub.execute_input": "2021-02-02T06:58:14.810663Z",
     "iopub.status.busy": "2021-02-02T06:58:14.800735Z",
     "iopub.status.idle": "2021-02-02T06:58:15.042533Z",
     "shell.execute_reply": "2021-02-02T06:58:15.041846Z"
    },
    "papermill": {
     "duration": 0.340548,
     "end_time": "2021-02-02T06:58:15.042683",
     "exception": false,
     "start_time": "2021-02-02T06:58:14.702135",
     "status": "completed"
    },
    "tags": []
   },
   "outputs": [
    {
     "data": {
      "text/plain": [
       "Text(0.5, 1.0, 'Negetive Diagonosis with age')"
      ]
     },
     "execution_count": 43,
     "metadata": {},
     "output_type": "execute_result"
    },
    {
     "data": {
      "image/png": "[encoded data removed]",
      "text/plain": [
       "<Figure size 504x504 with 2 Axes>"
      ]
     },
     "metadata": {
      "needs_background": "light"
     },
     "output_type": "display_data"
    }
   ],
   "source": [
    "##A.15\n",
    "plt.figure(figsize=(7,7))\n",
    "plt.subplot(1,2,1)\n",
    "plt.hist(df_eda[df_eda.diagnosed_mental_health_condition=='Yes']['age'],bins=5)\n",
    "plt.title(\"Positive Diagonosis with age\")\n",
    "\n",
    "plt.subplot(1,2,2)\n",
    "plt.hist(df_eda[df_eda.diagnosed_mental_health_condition=='No']['age'],bins=5)\n",
    "plt.title(\"Negetive Diagonosis with age\")"
   ]
  },
  {
   "cell_type": "code",
   "execution_count": 44,
   "metadata": {
    "execution": {
     "iopub.execute_input": "2021-02-02T06:58:15.233363Z",
     "iopub.status.busy": "2021-02-02T06:58:15.226206Z",
     "iopub.status.idle": "2021-02-02T06:58:15.451296Z",
     "shell.execute_reply": "2021-02-02T06:58:15.450625Z"
    },
    "papermill": {
     "duration": 0.328402,
     "end_time": "2021-02-02T06:58:15.451448",
     "exception": false,
     "start_time": "2021-02-02T06:58:15.123046",
     "status": "completed"
    },
    "tags": []
   },
   "outputs": [
    {
     "data": {
      "text/plain": [
       "([<matplotlib.patches.Wedge at 0x7f1c90350d90>,\n",
       "  <matplotlib.patches.Wedge at 0x7f1c9036d590>],\n",
       " [Text(-0.9829959488654123, 0.49367900959448124, 'Yes'),\n",
       "  Text(0.9829959950869729, -0.4936789175597559, 'No')],\n",
       " [Text(-0.536179608472043, 0.2692794597788079, '85.185188%'),\n",
       "  Text(0.5361796336838033, -0.26927940957804863, '14.814815%')])"
      ]
     },
     "execution_count": 44,
     "metadata": {},
     "output_type": "execute_result"
    },
    {
     "data": {
      "image/png": "[encoded data removed]",
      "text/plain": [
       "<Figure size 720x720 with 3 Axes>"
      ]
     },
     "metadata": {},
     "output_type": "display_data"
    }
   ],
   "source": [
    "##A.16\n",
    "plt.figure(figsize=(10,10))\n",
    "plt.subplot(1,3,1)\n",
    "plt.title(\"Male\")\n",
    "plt.pie(df_eda[df_eda.gender=='male']['diagnosed_mental_health_condition'].value_counts(),\n",
    "       autopct='%1f%%',radius=1,\n",
    "       labels=df_eda[df_eda.gender=='male']['diagnosed_mental_health_condition'].value_counts().index)\n",
    "\n",
    "plt.subplot(1,3,2)\n",
    "plt.title(\"Female\")\n",
    "plt.pie(df_eda[df_eda.gender=='female']['diagnosed_mental_health_condition'].value_counts(),\n",
    "       autopct='%1f%%',radius=1,\n",
    "       labels=df_eda[df_eda.gender=='female']['diagnosed_mental_health_condition'].value_counts().index)\n",
    "\n",
    "plt.subplot(1,3,3)\n",
    "plt.title(\"Others\")\n",
    "plt.pie(df_eda[df_eda.gender=='other']['diagnosed_mental_health_condition'].value_counts(),\n",
    "       autopct='%1f%%',radius=1,\n",
    "       labels=df_eda[df_eda.gender=='other']['diagnosed_mental_health_condition'].value_counts().index)"
   ]
  },
  {
   "cell_type": "code",
   "execution_count": 45,
   "metadata": {
    "execution": {
     "iopub.execute_input": "2021-02-02T06:58:15.616473Z",
     "iopub.status.busy": "2021-02-02T06:58:15.615591Z",
     "iopub.status.idle": "2021-02-02T06:58:24.698531Z",
     "shell.execute_reply": "2021-02-02T06:58:24.697932Z"
    },
    "papermill": {
     "duration": 9.167479,
     "end_time": "2021-02-02T06:58:24.698677",
     "exception": false,
     "start_time": "2021-02-02T06:58:15.531198",
     "status": "completed"
    },
    "tags": []
   },
   "outputs": [
    {
     "name": "stdout",
     "output_type": "stream",
     "text": [
      "Collecting chart-studio\r\n",
      "  Downloading chart_studio-1.1.0-py3-none-any.whl (64 kB)\r\n",
      "\u001b[K     |████████████████████████████████| 64 kB 710 kB/s \r\n",
      "\u001b[?25hRequirement already satisfied: plotly in /opt/conda/lib/python3.7/site-packages (from chart-studio) (4.14.3)\r\n",
      "Requirement already satisfied: requests in /opt/conda/lib/python3.7/site-packages (from chart-studio) (2.25.1)\r\n",
      "Requirement already satisfied: retrying>=1.3.3 in /opt/conda/lib/python3.7/site-packages (from chart-studio) (1.3.3)\r\n",
      "Requirement already satisfied: six in /opt/conda/lib/python3.7/site-packages (from chart-studio) (1.15.0)\r\n",
      "Requirement already satisfied: idna<3,>=2.5 in /opt/conda/lib/python3.7/site-packages (from requests->chart-studio) (2.10)\r\n",
      "Requirement already satisfied: certifi>=2017.4.17 in /opt/conda/lib/python3.7/site-packages (from requests->chart-studio) (2020.12.5)\r\n",
      "Requirement already satisfied: chardet<5,>=3.0.2 in /opt/conda/lib/python3.7/site-packages (from requests->chart-studio) (3.0.4)\r\n",
      "Requirement already satisfied: urllib3<1.27,>=1.21.1 in /opt/conda/lib/python3.7/site-packages (from requests->chart-studio) (1.26.2)\r\n",
      "Installing collected packages: chart-studio\r\n",
      "Successfully installed chart-studio-1.1.0\r\n",
      "\u001b[33mWARNING: You are using pip version 21.0; however, version 21.0.1 is available.\r\n",
      "You should consider upgrading via the '/opt/conda/bin/python3.7 -m pip install --upgrade pip' command.\u001b[0m\r\n"
     ]
    }
   ],
   "source": [
    "!pip install chart-studio"
   ]
  },
  {
   "cell_type": "code",
   "execution_count": 46,
   "metadata": {
    "execution": {
     "iopub.execute_input": "2021-02-02T06:58:24.873976Z",
     "iopub.status.busy": "2021-02-02T06:58:24.873264Z",
     "iopub.status.idle": "2021-02-02T06:58:24.922873Z",
     "shell.execute_reply": "2021-02-02T06:58:24.922192Z"
    },
    "papermill": {
     "duration": 0.141423,
     "end_time": "2021-02-02T06:58:24.923018",
     "exception": false,
     "start_time": "2021-02-02T06:58:24.781595",
     "status": "completed"
    },
    "tags": []
   },
   "outputs": [],
   "source": [
    "##A.17\n",
    "import chart_studio.plotly as py \n",
    "import plotly.graph_objs as gobj\n",
    "from plotly.offline import download_plotlyjs,init_notebook_mode,plot,iplot"
   ]
  },
  {
   "cell_type": "code",
   "execution_count": 47,
   "metadata": {
    "execution": {
     "iopub.execute_input": "2021-02-02T06:58:25.099373Z",
     "iopub.status.busy": "2021-02-02T06:58:25.098580Z",
     "iopub.status.idle": "2021-02-02T06:58:26.205523Z",
     "shell.execute_reply": "2021-02-02T06:58:26.206065Z"
    },
    "papermill": {
     "duration": 1.199965,
     "end_time": "2021-02-02T06:58:26.206263",
     "exception": false,
     "start_time": "2021-02-02T06:58:25.006298",
     "status": "completed"
    },
    "tags": []
   },
   "outputs": [
    {
     "data": {
      "text/html": [
       "        <script type=\"text/javascript\">\n",
       "        window.PlotlyConfig = {MathJaxConfig: 'local'};\n",
       "        if (window.MathJax) {MathJax.Hub.Config({SVG: {font: \"STIX-Web\"}});}\n",
       "        if (typeof require !== 'undefined') {\n",
       "        require.undef(\"plotly\");\n",
       "        requirejs.config({\n",
       "            paths: {\n",
       "                'plotly': ['https://cdn.plot.ly/plotly-latest.min']\n",
       "            }\n",
       "        });\n",
       "        require(['plotly'], function(Plotly) {\n",
       "            window._Plotly = Plotly;\n",
       "        });\n",
       "        }\n",
       "        </script>\n",
       "        "
      ]
     },
     "metadata": {},
     "output_type": "display_data"
    },
    {
     "data": {
      "text/html": [
       "<div>                            <div id=\"b3e97bb2-8d3a-44a3-add5-2689fa1aa762\" class=\"plotly-graph-div\" style=\"height:525px; width:100%;\"></div>            <script type=\"text/javascript\">                require([\"plotly\"], function(Plotly) {                    window.PLOTLYENV=window.PLOTLYENV || {};                                    if (document.getElementById(\"b3e97bb2-8d3a-44a3-add5-2689fa1aa762\")) {                    Plotly.newPlot(                        \"b3e97bb2-8d3a-44a3-add5-2689fa1aa762\",                        [{\"colorbar\": {\"len\": 200, \"lenmode\": \"pixels\", \"title\": {\"text\": \"Country Colours\"}}, \"colorscale\": [[0.0, \"rgb(150,0,90)\"], [0.125, \"rgb(0,0,200)\"], [0.25, \"rgb(0,25,255)\"], [0.375, \"rgb(0,152,255)\"], [0.5, \"rgb(44,255,150)\"], [0.625, \"rgb(151,255,0)\"], [0.75, \"rgb(255,234,0)\"], [0.875, \"rgb(255,111,0)\"], [1.0, \"rgb(255,0,0)\"]], \"locationmode\": \"country names\", \"locations\": [\"United States of America\", \"United Kingdom\", \"Canada\", \"Netherlands\", \"Australia\", \"Germany\", \"Ireland\", \"Sweden\", \"Switzerland\", \"France\", \"Brazil\", \"New Zealand\", \"Austria\", \"India\", \"Denmark\", \"Finland\", \"Afghanistan\", \"Belgium\", \"Pakistan\", \"Hungary\", \"Algeria\", \"Norway\", \"Guatemala\", \"Bangladesh\", \"Other\", \"Romania\", \"Poland\", \"Czech Republic\", \"Chile\", \"Ecuador\", \"Bulgaria\", \"Israel\", \"Spain\"], \"type\": \"choropleth\", \"z\": [473, 76, 31, 25, 24, 21, 8, 7, 6, 5, 4, 4, 3, 3, 3, 3, 2, 2, 2, 1, 1, 1, 1, 1, 1, 1, 1, 1, 1, 1, 1, 1, 1]}],                        {\"geo\": {\"scope\": \"world\"}, \"template\": {\"data\": {\"bar\": [{\"error_x\": {\"color\": \"#2a3f5f\"}, \"error_y\": {\"color\": \"#2a3f5f\"}, \"marker\": {\"line\": {\"color\": \"#E5ECF6\", \"width\": 0.5}}, \"type\": \"bar\"}], \"barpolar\": [{\"marker\": {\"line\": {\"color\": \"#E5ECF6\", \"width\": 0.5}}, \"type\": \"barpolar\"}], \"carpet\": [{\"aaxis\": {\"endlinecolor\": \"#2a3f5f\", \"gridcolor\": \"white\", \"linecolor\": \"white\", \"minorgridcolor\": \"white\", \"startlinecolor\": \"#2a3f5f\"}, \"baxis\": {\"endlinecolor\": \"#2a3f5f\", \"gridcolor\": \"white\", \"linecolor\": \"white\", \"minorgridcolor\": \"white\", \"startlinecolor\": \"#2a3f5f\"}, \"type\": \"carpet\"}], \"choropleth\": [{\"colorbar\": {\"outlinewidth\": 0, \"ticks\": \"\"}, \"type\": \"choropleth\"}], \"contour\": [{\"colorbar\": {\"outlinewidth\": 0, \"ticks\": \"\"}, \"colorscale\": [[0.0, \"#0d0887\"], [0.1111111111111111, \"#46039f\"], [0.2222222222222222, \"#7201a8\"], [0.3333333333333333, \"#9c179e\"], [0.4444444444444444, \"#bd3786\"], [0.5555555555555556, \"#d8576b\"], [0.6666666666666666, \"#ed7953\"], [0.7777777777777778, \"#fb9f3a\"], [0.8888888888888888, \"#fdca26\"], [1.0, \"#f0f921\"]], \"type\": \"contour\"}], \"contourcarpet\": [{\"colorbar\": {\"outlinewidth\": 0, \"ticks\": \"\"}, \"type\": \"contourcarpet\"}], \"heatmap\": [{\"colorbar\": {\"outlinewidth\": 0, \"ticks\": \"\"}, \"colorscale\": [[0.0, \"#0d0887\"], [0.1111111111111111, \"#46039f\"], [0.2222222222222222, \"#7201a8\"], [0.3333333333333333, \"#9c179e\"], [0.4444444444444444, \"#bd3786\"], [0.5555555555555556, \"#d8576b\"], [0.6666666666666666, \"#ed7953\"], [0.7777777777777778, \"#fb9f3a\"], [0.8888888888888888, \"#fdca26\"], [1.0, \"#f0f921\"]], \"type\": \"heatmap\"}], \"heatmapgl\": [{\"colorbar\": {\"outlinewidth\": 0, \"ticks\": \"\"}, \"colorscale\": [[0.0, \"#0d0887\"], [0.1111111111111111, \"#46039f\"], [0.2222222222222222, \"#7201a8\"], [0.3333333333333333, \"#9c179e\"], [0.4444444444444444, \"#bd3786\"], [0.5555555555555556, \"#d8576b\"], [0.6666666666666666, \"#ed7953\"], [0.7777777777777778, \"#fb9f3a\"], [0.8888888888888888, \"#fdca26\"], [1.0, \"#f0f921\"]], \"type\": \"heatmapgl\"}], \"histogram\": [{\"marker\": {\"colorbar\": {\"outlinewidth\": 0, \"ticks\": \"\"}}, \"type\": \"histogram\"}], \"histogram2d\": [{\"colorbar\": {\"outlinewidth\": 0, \"ticks\": \"\"}, \"colorscale\": [[0.0, \"#0d0887\"], [0.1111111111111111, \"#46039f\"], [0.2222222222222222, \"#7201a8\"], [0.3333333333333333, \"#9c179e\"], [0.4444444444444444, \"#bd3786\"], [0.5555555555555556, \"#d8576b\"], [0.6666666666666666, \"#ed7953\"], [0.7777777777777778, \"#fb9f3a\"], [0.8888888888888888, \"#fdca26\"], [1.0, \"#f0f921\"]], \"type\": \"histogram2d\"}], \"histogram2dcontour\": [{\"colorbar\": {\"outlinewidth\": 0, \"ticks\": \"\"}, \"colorscale\": [[0.0, \"#0d0887\"], [0.1111111111111111, \"#46039f\"], [0.2222222222222222, \"#7201a8\"], [0.3333333333333333, \"#9c179e\"], [0.4444444444444444, \"#bd3786\"], [0.5555555555555556, \"#d8576b\"], [0.6666666666666666, \"#ed7953\"], [0.7777777777777778, \"#fb9f3a\"], [0.8888888888888888, \"#fdca26\"], [1.0, \"#f0f921\"]], \"type\": \"histogram2dcontour\"}], \"mesh3d\": [{\"colorbar\": {\"outlinewidth\": 0, \"ticks\": \"\"}, \"type\": \"mesh3d\"}], \"parcoords\": [{\"line\": {\"colorbar\": {\"outlinewidth\": 0, \"ticks\": \"\"}}, \"type\": \"parcoords\"}], \"pie\": [{\"automargin\": true, \"type\": \"pie\"}], \"scatter\": [{\"marker\": {\"colorbar\": {\"outlinewidth\": 0, \"ticks\": \"\"}}, \"type\": \"scatter\"}], \"scatter3d\": [{\"line\": {\"colorbar\": {\"outlinewidth\": 0, \"ticks\": \"\"}}, \"marker\": {\"colorbar\": {\"outlinewidth\": 0, \"ticks\": \"\"}}, \"type\": \"scatter3d\"}], \"scattercarpet\": [{\"marker\": {\"colorbar\": {\"outlinewidth\": 0, \"ticks\": \"\"}}, \"type\": \"scattercarpet\"}], \"scattergeo\": [{\"marker\": {\"colorbar\": {\"outlinewidth\": 0, \"ticks\": \"\"}}, \"type\": \"scattergeo\"}], \"scattergl\": [{\"marker\": {\"colorbar\": {\"outlinewidth\": 0, \"ticks\": \"\"}}, \"type\": \"scattergl\"}], \"scattermapbox\": [{\"marker\": {\"colorbar\": {\"outlinewidth\": 0, \"ticks\": \"\"}}, \"type\": \"scattermapbox\"}], \"scatterpolar\": [{\"marker\": {\"colorbar\": {\"outlinewidth\": 0, \"ticks\": \"\"}}, \"type\": \"scatterpolar\"}], \"scatterpolargl\": [{\"marker\": {\"colorbar\": {\"outlinewidth\": 0, \"ticks\": \"\"}}, \"type\": \"scatterpolargl\"}], \"scatterternary\": [{\"marker\": {\"colorbar\": {\"outlinewidth\": 0, \"ticks\": \"\"}}, \"type\": \"scatterternary\"}], \"surface\": [{\"colorbar\": {\"outlinewidth\": 0, \"ticks\": \"\"}, \"colorscale\": [[0.0, \"#0d0887\"], [0.1111111111111111, \"#46039f\"], [0.2222222222222222, \"#7201a8\"], [0.3333333333333333, \"#9c179e\"], [0.4444444444444444, \"#bd3786\"], [0.5555555555555556, \"#d8576b\"], [0.6666666666666666, \"#ed7953\"], [0.7777777777777778, \"#fb9f3a\"], [0.8888888888888888, \"#fdca26\"], [1.0, \"#f0f921\"]], \"type\": \"surface\"}], \"table\": [{\"cells\": {\"fill\": {\"color\": \"#EBF0F8\"}, \"line\": {\"color\": \"white\"}}, \"header\": {\"fill\": {\"color\": \"#C8D4E3\"}, \"line\": {\"color\": \"white\"}}, \"type\": \"table\"}]}, \"layout\": {\"annotationdefaults\": {\"arrowcolor\": \"#2a3f5f\", \"arrowhead\": 0, \"arrowwidth\": 1}, \"autotypenumbers\": \"strict\", \"coloraxis\": {\"colorbar\": {\"outlinewidth\": 0, \"ticks\": \"\"}}, \"colorscale\": {\"diverging\": [[0, \"#8e0152\"], [0.1, \"#c51b7d\"], [0.2, \"#de77ae\"], [0.3, \"#f1b6da\"], [0.4, \"#fde0ef\"], [0.5, \"#f7f7f7\"], [0.6, \"#e6f5d0\"], [0.7, \"#b8e186\"], [0.8, \"#7fbc41\"], [0.9, \"#4d9221\"], [1, \"#276419\"]], \"sequential\": [[0.0, \"#0d0887\"], [0.1111111111111111, \"#46039f\"], [0.2222222222222222, \"#7201a8\"], [0.3333333333333333, \"#9c179e\"], [0.4444444444444444, \"#bd3786\"], [0.5555555555555556, \"#d8576b\"], [0.6666666666666666, \"#ed7953\"], [0.7777777777777778, \"#fb9f3a\"], [0.8888888888888888, \"#fdca26\"], [1.0, \"#f0f921\"]], \"sequentialminus\": [[0.0, \"#0d0887\"], [0.1111111111111111, \"#46039f\"], [0.2222222222222222, \"#7201a8\"], [0.3333333333333333, \"#9c179e\"], [0.4444444444444444, \"#bd3786\"], [0.5555555555555556, \"#d8576b\"], [0.6666666666666666, \"#ed7953\"], [0.7777777777777778, \"#fb9f3a\"], [0.8888888888888888, \"#fdca26\"], [1.0, \"#f0f921\"]]}, \"colorway\": [\"#636efa\", \"#EF553B\", \"#00cc96\", \"#ab63fa\", \"#FFA15A\", \"#19d3f3\", \"#FF6692\", \"#B6E880\", \"#FF97FF\", \"#FECB52\"], \"font\": {\"color\": \"#2a3f5f\"}, \"geo\": {\"bgcolor\": \"white\", \"lakecolor\": \"white\", \"landcolor\": \"#E5ECF6\", \"showlakes\": true, \"showland\": true, \"subunitcolor\": \"white\"}, \"hoverlabel\": {\"align\": \"left\"}, \"hovermode\": \"closest\", \"mapbox\": {\"style\": \"light\"}, \"paper_bgcolor\": \"white\", \"plot_bgcolor\": \"#E5ECF6\", \"polar\": {\"angularaxis\": {\"gridcolor\": \"white\", \"linecolor\": \"white\", \"ticks\": \"\"}, \"bgcolor\": \"#E5ECF6\", \"radialaxis\": {\"gridcolor\": \"white\", \"linecolor\": \"white\", \"ticks\": \"\"}}, \"scene\": {\"xaxis\": {\"backgroundcolor\": \"#E5ECF6\", \"gridcolor\": \"white\", \"gridwidth\": 2, \"linecolor\": \"white\", \"showbackground\": true, \"ticks\": \"\", \"zerolinecolor\": \"white\"}, \"yaxis\": {\"backgroundcolor\": \"#E5ECF6\", \"gridcolor\": \"white\", \"gridwidth\": 2, \"linecolor\": \"white\", \"showbackground\": true, \"ticks\": \"\", \"zerolinecolor\": \"white\"}, \"zaxis\": {\"backgroundcolor\": \"#E5ECF6\", \"gridcolor\": \"white\", \"gridwidth\": 2, \"linecolor\": \"white\", \"showbackground\": true, \"ticks\": \"\", \"zerolinecolor\": \"white\"}}, \"shapedefaults\": {\"line\": {\"color\": \"#2a3f5f\"}}, \"ternary\": {\"aaxis\": {\"gridcolor\": \"white\", \"linecolor\": \"white\", \"ticks\": \"\"}, \"baxis\": {\"gridcolor\": \"white\", \"linecolor\": \"white\", \"ticks\": \"\"}, \"bgcolor\": \"#E5ECF6\", \"caxis\": {\"gridcolor\": \"white\", \"linecolor\": \"white\", \"ticks\": \"\"}}, \"title\": {\"x\": 0.05}, \"xaxis\": {\"automargin\": true, \"gridcolor\": \"white\", \"linecolor\": \"white\", \"ticks\": \"\", \"title\": {\"standoff\": 15}, \"zerolinecolor\": \"white\", \"zerolinewidth\": 2}, \"yaxis\": {\"automargin\": true, \"gridcolor\": \"white\", \"linecolor\": \"white\", \"ticks\": \"\", \"title\": {\"standoff\": 15}, \"zerolinecolor\": \"white\", \"zerolinewidth\": 2}}}},                        {\"responsive\": true}                    ).then(function(){\n",
       "                            \n",
       "var gd = document.getElementById('b3e97bb2-8d3a-44a3-add5-2689fa1aa762');\n",
       "var x = new MutationObserver(function (mutations, observer) {{\n",
       "        var display = window.getComputedStyle(gd).display;\n",
       "        if (!display || display === 'none') {{\n",
       "            console.log([gd, 'removed!']);\n",
       "            Plotly.purge(gd);\n",
       "            observer.disconnect();\n",
       "        }}\n",
       "}});\n",
       "\n",
       "// Listen for the removal of the full notebook cells\n",
       "var notebookContainer = gd.closest('#notebook-container');\n",
       "if (notebookContainer) {{\n",
       "    x.observe(notebookContainer, {childList: true});\n",
       "}}\n",
       "\n",
       "// Listen for the clearing of the current output cell\n",
       "var outputEl = gd.closest('.output');\n",
       "if (outputEl) {{\n",
       "    x.observe(outputEl, {childList: true});\n",
       "}}\n",
       "\n",
       "                        })                };                });            </script>        </div>"
      ]
     },
     "metadata": {},
     "output_type": "display_data"
    }
   ],
   "source": [
    "data =dict( type = 'choropleth',\n",
    "            locations = list(df_eda[df_eda.diagnosed_mental_health_condition=='Yes']['country'].value_counts().index),\n",
    "            locationmode = 'country names',\n",
    "            colorscale= 'Rainbow',\n",
    "            z=list(df_eda[df_eda.diagnosed_mental_health_condition=='Yes']['country'].value_counts()),\n",
    "            colorbar = {'title':'Country Colours', 'len':200,'lenmode':'pixels' })\n",
    "layout = dict(geo = {'scope':'world'})\n",
    "col_map=gobj.Figure(data = [data],layout = layout)\n",
    "iplot(col_map)"
   ]
  },
  {
   "cell_type": "code",
   "execution_count": 48,
   "metadata": {
    "execution": {
     "iopub.execute_input": "2021-02-02T06:58:26.377424Z",
     "iopub.status.busy": "2021-02-02T06:58:26.376442Z",
     "iopub.status.idle": "2021-02-02T06:58:26.547563Z",
     "shell.execute_reply": "2021-02-02T06:58:26.548116Z"
    },
    "papermill": {
     "duration": 0.257887,
     "end_time": "2021-02-02T06:58:26.548295",
     "exception": false,
     "start_time": "2021-02-02T06:58:26.290408",
     "status": "completed"
    },
    "tags": []
   },
   "outputs": [
    {
     "data": {
      "text/plain": [
       "([<matplotlib.patches.Wedge at 0x7f1c8f08dad0>,\n",
       "  <matplotlib.patches.Wedge at 0x7f1c8f0272d0>],\n",
       " [Text(-0.03562008250107137, 1.0994231258813036, 'Yes'),\n",
       "  Text(0.03562008250107123, -1.0994231258813039, 'No')],\n",
       " [Text(-0.01942913590967529, 0.5996853413898019, '51.030928%'),\n",
       "  Text(0.019429135909675214, -0.599685341389802, '48.969072%')])"
      ]
     },
     "execution_count": 48,
     "metadata": {},
     "output_type": "execute_result"
    },
    {
     "data": {
      "image/png": "[encoded data removed]",
      "text/plain": [
       "<Figure size 720x720 with 2 Axes>"
      ]
     },
     "metadata": {},
     "output_type": "display_data"
    }
   ],
   "source": [
    "##A.20\n",
    "plt.figure(figsize=(10,10))\n",
    "plt.subplot(1,2,1)\n",
    "plt.title(\"Tech Role\")\n",
    "plt.pie(df_eda[df_eda.tech_role==1]['diagnosed_mental_health_condition'].value_counts(),\n",
    "       autopct='%1f%%',radius=1,\n",
    "       labels=df_eda[df_eda.tech_role==1]['diagnosed_mental_health_condition'].value_counts().index)\n",
    "\n",
    "plt.subplot(1,2,2)\n",
    "plt.title(\"Non Tech Role\")\n",
    "plt.pie(df_eda[df_eda.tech_role==0]['diagnosed_mental_health_condition'].value_counts(),\n",
    "       autopct='%1f%%',radius=1,\n",
    "       labels=df_eda[df_eda.tech_role==0]['diagnosed_mental_health_condition'].value_counts().index)"
   ]
  },
  {
   "cell_type": "code",
   "execution_count": 49,
   "metadata": {
    "execution": {
     "iopub.execute_input": "2021-02-02T06:58:26.721955Z",
     "iopub.status.busy": "2021-02-02T06:58:26.720912Z",
     "iopub.status.idle": "2021-02-02T06:58:27.099444Z",
     "shell.execute_reply": "2021-02-02T06:58:27.098780Z"
    },
    "papermill": {
     "duration": 0.466916,
     "end_time": "2021-02-02T06:58:27.099590",
     "exception": false,
     "start_time": "2021-02-02T06:58:26.632674",
     "status": "completed"
    },
    "tags": []
   },
   "outputs": [
    {
     "data": {
      "text/plain": [
       "([<matplotlib.patches.Wedge at 0x7f1c8efcb750>,\n",
       "  <matplotlib.patches.Wedge at 0x7f1c8ef59f10>],\n",
       " [Text(-0.15000672147010105, 1.089723810657449, 'No'),\n",
       "  Text(0.15000661944279384, -1.089723824702087, 'Yes')],\n",
       " [Text(-0.08182184807460056, 0.5943948058131538, '54.354352%'),\n",
       "  Text(0.08182179242334207, -0.5943948134738656, '45.645645%')])"
      ]
     },
     "execution_count": 49,
     "metadata": {},
     "output_type": "execute_result"
    },
    {
     "data": {
      "image/png": "[encoded data removed]",
      "text/plain": [
       "<Figure size 720x720 with 3 Axes>"
      ]
     },
     "metadata": {},
     "output_type": "display_data"
    }
   ],
   "source": [
    "##A.21\n",
    "plt.figure(figsize=(10,10))\n",
    "plt.subplot(1,3,1)\n",
    "plt.title(\"Always Remote work\")\n",
    "plt.pie(df_eda[df_eda.work_remotely=='Always']['diagnosed_mental_health_condition'].value_counts(),\n",
    "       autopct='%1f%%',radius=1,\n",
    "       labels=df_eda[df_eda.work_remotely=='Always']['diagnosed_mental_health_condition'].value_counts().index)\n",
    "\n",
    "plt.subplot(1,3,2)\n",
    "plt.title(\"Sometime Remote work\")\n",
    "plt.pie(df_eda[df_eda.work_remotely=='Sometimes']['diagnosed_mental_health_condition'].value_counts(),\n",
    "       autopct='%1f%%',radius=1,\n",
    "       labels=df_eda[df_eda.work_remotely=='Sometimes']['diagnosed_mental_health_condition'].value_counts().index)\n",
    "\n",
    "plt.subplot(1,3,3)\n",
    "plt.title(\"Never Remote work\")\n",
    "plt.pie(df_eda[df_eda.work_remotely=='Never']['diagnosed_mental_health_condition'].value_counts(),\n",
    "       autopct='%1f%%',radius=1,\n",
    "       labels=df_eda[df_eda.work_remotely=='Never']['diagnosed_mental_health_condition'].value_counts().index)"
   ]
  },
  {
   "cell_type": "code",
   "execution_count": 50,
   "metadata": {
    "execution": {
     "iopub.execute_input": "2021-02-02T06:58:27.298980Z",
     "iopub.status.busy": "2021-02-02T06:58:27.297901Z",
     "iopub.status.idle": "2021-02-02T06:58:27.453758Z",
     "shell.execute_reply": "2021-02-02T06:58:27.452708Z"
    },
    "papermill": {
     "duration": 0.268044,
     "end_time": "2021-02-02T06:58:27.453915",
     "exception": false,
     "start_time": "2021-02-02T06:58:27.185871",
     "status": "completed"
    },
    "tags": []
   },
   "outputs": [
    {
     "data": {
      "text/plain": [
       "([<matplotlib.patches.Wedge at 0x7f1c8ef1b190>,\n",
       "  <matplotlib.patches.Wedge at 0x7f1c8ef025d0>],\n",
       " [Text(-0.06464257105613563, 1.0980989654886542, 'Yes'),\n",
       "  Text(0.06464257105613574, -1.0980989654886542, 'No')],\n",
       " [Text(-0.03525958421243761, 0.5989630720847204, '51.871657%'),\n",
       "  Text(0.035259584212437675, -0.5989630720847204, '48.128343%')])"
      ]
     },
     "execution_count": 50,
     "metadata": {},
     "output_type": "execute_result"
    },
    {
     "data": {
      "image/png": "[encoded data removed]",
      "text/plain": [
       "<Figure size 720x720 with 2 Axes>"
      ]
     },
     "metadata": {},
     "output_type": "display_data"
    }
   ],
   "source": [
    "##A.22\n",
    "plt.figure(figsize=(10,10))\n",
    "plt.subplot(1,2,1)\n",
    "plt.title(\"Tech Role in tech company\")\n",
    "plt.pie(df_eda[(df_eda.tech_role==1) & (df_eda.tech_company==1)]['diagnosed_mental_health_condition'].value_counts(),\n",
    "       autopct='%1f%%',radius=1,\n",
    "       labels=df_eda[df_eda.tech_role==1]['diagnosed_mental_health_condition'].value_counts().index)\n",
    "\n",
    "plt.subplot(1,2,2)\n",
    "plt.title(\"Tech Role in non tech company\")\n",
    "plt.pie(df_eda[(df_eda.tech_role==1) & (df_eda.tech_company==0)]['diagnosed_mental_health_condition'].value_counts(),\n",
    "       autopct='%1f%%',radius=1,\n",
    "       labels=df_eda[df_eda.tech_role==0]['diagnosed_mental_health_condition'].value_counts().index)"
   ]
  },
  {
   "cell_type": "code",
   "execution_count": 51,
   "metadata": {
    "execution": {
     "iopub.execute_input": "2021-02-02T06:58:27.664225Z",
     "iopub.status.busy": "2021-02-02T06:58:27.663532Z",
     "iopub.status.idle": "2021-02-02T06:58:27.814678Z",
     "shell.execute_reply": "2021-02-02T06:58:27.814158Z"
    },
    "papermill": {
     "duration": 0.273357,
     "end_time": "2021-02-02T06:58:27.814825",
     "exception": false,
     "start_time": "2021-02-02T06:58:27.541468",
     "status": "completed"
    },
    "tags": []
   },
   "outputs": [
    {
     "data": {
      "text/plain": [
       "([<matplotlib.patches.Wedge at 0x7f1c8ee8dd90>,\n",
       "  <matplotlib.patches.Wedge at 0x7f1c8ee27590>,\n",
       "  <matplotlib.patches.Wedge at 0x7f1c8ee27d90>],\n",
       " [Text(-0.030151117190896082, 1.0995866996886334, 'Yes'),\n",
       "  Text(-0.5050235705581543, -0.9772160422243861, 'No'),\n",
       "  Text(0.9630061253565793, -0.5316194151135837, 'Maybe')],\n",
       " [Text(-0.01644606392230695, 0.5997745634665272, '50.872600%'),\n",
       "  Text(-0.27546740212262955, -0.5330269321223924, '33.071554%'),\n",
       "  Text(0.5252760683763159, -0.28997422642559106, '16.055846%')])"
      ]
     },
     "execution_count": 51,
     "metadata": {},
     "output_type": "execute_result"
    },
    {
     "data": {
      "image/png": "[encoded data removed]",
      "text/plain": [
       "<Figure size 432x288 with 2 Axes>"
      ]
     },
     "metadata": {},
     "output_type": "display_data"
    }
   ],
   "source": [
    "##B.1\n",
    "plt.subplot(1,2,1)\n",
    "plt.title(\"Self Employed\")\n",
    "plt.pie(df_eda[df_eda.self_employed==1]['mental_health_disorder_past'].value_counts(),\n",
    "       autopct='%1f%%',radius=1, \n",
    "       labels=df_eda[df_eda.self_employed==1]['mental_health_disorder_past'].value_counts().index)\n",
    "\n",
    "plt.subplot(1,2,2)\n",
    "plt.title(\"Not Self employed\")\n",
    "plt.pie(df_eda[df_eda.self_employed==0]['mental_health_disorder_past'].value_counts(),\n",
    "       autopct='%1f%%',radius=1, \n",
    "       labels=df_eda[df_eda.self_employed==0]['mental_health_disorder_past'].value_counts().index)"
   ]
  },
  {
   "cell_type": "code",
   "execution_count": 52,
   "metadata": {
    "execution": {
     "iopub.execute_input": "2021-02-02T06:58:28.018020Z",
     "iopub.status.busy": "2021-02-02T06:58:28.017125Z",
     "iopub.status.idle": "2021-02-02T06:58:28.162361Z",
     "shell.execute_reply": "2021-02-02T06:58:28.161697Z"
    },
    "papermill": {
     "duration": 0.256571,
     "end_time": "2021-02-02T06:58:28.162507",
     "exception": false,
     "start_time": "2021-02-02T06:58:27.905936",
     "status": "completed"
    },
    "tags": []
   },
   "outputs": [
    {
     "data": {
      "text/plain": [
       "([<matplotlib.patches.Wedge at 0x7f1c8edba310>,\n",
       "  <matplotlib.patches.Wedge at 0x7f1c8edc8e90>],\n",
       " [Text(-0.25106860689769006, 1.0709643106240532, '1'),\n",
       "  Text(0.2510687071686046, -1.0709642871173088, '0')],\n",
       " [Text(-0.1369465128532855, 0.5841623512494835, '57.329845%'),\n",
       "  Text(0.13694656754651158, -0.584162338427623, '42.670158%')])"
      ]
     },
     "execution_count": 52,
     "metadata": {},
     "output_type": "execute_result"
    },
    {
     "data": {
      "image/png": "[encoded data removed]",
      "text/plain": [
       "<Figure size 432x288 with 2 Axes>"
      ]
     },
     "metadata": {},
     "output_type": "display_data"
    }
   ],
   "source": [
    "##B.2\n",
    "plt.subplot(1,2,1)\n",
    "plt.title(\"Self Employed\")\n",
    "plt.pie(df_eda[df_eda.self_employed==1]['treatment_from_professional'].value_counts(),\n",
    "       autopct='%1f%%',radius=1, \n",
    "       labels=df_eda[df_eda.self_employed==1]['treatment_from_professional'].value_counts().index)\n",
    "\n",
    "plt.subplot(1,2,2)\n",
    "plt.title(\"Not Self employed\")\n",
    "plt.pie(df_eda[df_eda.self_employed==0]['treatment_from_professional'].value_counts(),\n",
    "       autopct='%1f%%',radius=1, \n",
    "       labels=df_eda[df_eda.self_employed==0]['treatment_from_professional'].value_counts().index)"
   ]
  },
  {
   "cell_type": "code",
   "execution_count": 53,
   "metadata": {
    "execution": {
     "iopub.execute_input": "2021-02-02T06:58:28.355888Z",
     "iopub.status.busy": "2021-02-02T06:58:28.354880Z",
     "iopub.status.idle": "2021-02-02T06:58:28.588683Z",
     "shell.execute_reply": "2021-02-02T06:58:28.588070Z"
    },
    "papermill": {
     "duration": 0.335232,
     "end_time": "2021-02-02T06:58:28.588836",
     "exception": false,
     "start_time": "2021-02-02T06:58:28.253604",
     "status": "completed"
    },
    "tags": []
   },
   "outputs": [
    {
     "data": {
      "text/plain": [
       "Text(0.5, 1.0, 'Company size vs Health care coverage')"
      ]
     },
     "execution_count": 53,
     "metadata": {},
     "output_type": "execute_result"
    },
    {
     "data": {
      "image/png": "[encoded data removed]",
      "text/plain": [
       "<Figure size 432x288 with 1 Axes>"
      ]
     },
     "metadata": {
      "needs_background": "light"
     },
     "output_type": "display_data"
    }
   ],
   "source": [
    "##B.3\n",
    "sns.countplot(data=df_eda,x='no_of_employees',hue='mental_healthcare_coverage')\n",
    "plt.title('Company size vs Health care coverage')"
   ]
  },
  {
   "cell_type": "code",
   "execution_count": 54,
   "metadata": {
    "execution": {
     "iopub.execute_input": "2021-02-02T06:58:28.783893Z",
     "iopub.status.busy": "2021-02-02T06:58:28.783214Z",
     "iopub.status.idle": "2021-02-02T06:58:29.040459Z",
     "shell.execute_reply": "2021-02-02T06:58:29.039740Z"
    },
    "papermill": {
     "duration": 0.358595,
     "end_time": "2021-02-02T06:58:29.040620",
     "exception": false,
     "start_time": "2021-02-02T06:58:28.682025",
     "status": "completed"
    },
    "tags": []
   },
   "outputs": [
    {
     "data": {
      "text/plain": [
       "Text(0.5, 1.0, 'Company size vs Openess about mental health')"
      ]
     },
     "execution_count": 54,
     "metadata": {},
     "output_type": "execute_result"
    },
    {
     "data": {
      "image/png": "[encoded data removed]",
      "text/plain": [
       "<Figure size 432x288 with 1 Axes>"
      ]
     },
     "metadata": {
      "needs_background": "light"
     },
     "output_type": "display_data"
    }
   ],
   "source": [
    "##B.4\n",
    "sns.countplot(data=df_eda,x='no_of_employees',hue='comfortable_discussing_with_coworkers')\n",
    "plt.title('Company size vs Openess about mental health')"
   ]
  },
  {
   "cell_type": "code",
   "execution_count": 55,
   "metadata": {
    "execution": {
     "iopub.execute_input": "2021-02-02T06:58:29.258843Z",
     "iopub.status.busy": "2021-02-02T06:58:29.241730Z",
     "iopub.status.idle": "2021-02-02T06:58:29.428878Z",
     "shell.execute_reply": "2021-02-02T06:58:29.428197Z"
    },
    "papermill": {
     "duration": 0.290228,
     "end_time": "2021-02-02T06:58:29.429045",
     "exception": false,
     "start_time": "2021-02-02T06:58:29.138817",
     "status": "completed"
    },
    "tags": []
   },
   "outputs": [
    {
     "data": {
      "text/plain": [
       "([<matplotlib.patches.Wedge at 0x7f1c8ebbf3d0>,\n",
       "  <matplotlib.patches.Wedge at 0x7f1c8ebccb90>,\n",
       "  <matplotlib.patches.Wedge at 0x7f1c8eb583d0>],\n",
       " [Text(-0.44059807728808054, 1.0079054193177288, 'No'),\n",
       "  Text(0.1506324301763201, -1.0896374952153474, 'Yes'),\n",
       "  Text(1.058745387606376, -0.2984262123578033, \"I don't know\")],\n",
       " [Text(-0.24032622397531664, 0.5497665923551248, '63.117874%'),\n",
       "  Text(0.08216314373253823, -0.5943477246629167, '28.136882%'),\n",
       "  Text(0.5774974841489323, -0.16277793401334723, '8.745247%')])"
      ]
     },
     "execution_count": 55,
     "metadata": {},
     "output_type": "execute_result"
    },
    {
     "data": {
      "image/png": "[encoded data removed]",
      "text/plain": [
       "<Figure size 432x288 with 2 Axes>"
      ]
     },
     "metadata": {},
     "output_type": "display_data"
    }
   ],
   "source": [
    "##B.5\n",
    "plt.subplot(1,2,1)\n",
    "plt.title(\"Tech Company\")\n",
    "plt.pie(df_eda[df_eda.tech_company==1]['employer_discussed_mental_health '].value_counts(),\n",
    "       autopct='%1f%%',radius=1, \n",
    "       labels=df_eda[df_eda.tech_company==1]['employer_discussed_mental_health '].value_counts().index)\n",
    "\n",
    "plt.subplot(1,2,2)\n",
    "plt.title(\"Not tech companies\")\n",
    "plt.pie(df_eda[df_eda.tech_company==0]['employer_discussed_mental_health '].value_counts(),\n",
    "       autopct='%1f%%',radius=1, \n",
    "       labels=df_eda[df_eda.tech_company==1]['employer_discussed_mental_health '].value_counts().index)"
   ]
  },
  {
   "cell_type": "code",
   "execution_count": 56,
   "metadata": {
    "execution": {
     "iopub.execute_input": "2021-02-02T06:58:29.652480Z",
     "iopub.status.busy": "2021-02-02T06:58:29.642878Z",
     "iopub.status.idle": "2021-02-02T06:58:29.781693Z",
     "shell.execute_reply": "2021-02-02T06:58:29.782182Z"
    },
    "papermill": {
     "duration": 0.256348,
     "end_time": "2021-02-02T06:58:29.782371",
     "exception": false,
     "start_time": "2021-02-02T06:58:29.526023",
     "status": "completed"
    },
    "tags": []
   },
   "outputs": [
    {
     "data": {
      "text/plain": [
       "([<matplotlib.patches.Wedge at 0x7f1c8eadca50>,\n",
       "  <matplotlib.patches.Wedge at 0x7f1c8eaf9610>],\n",
       " [Text(-0.05834680990910332, 1.0984514781151833, '1'),\n",
       "  Text(0.058346809909102695, -1.0984514781151833, '0')],\n",
       " [Text(-0.03182553267769272, 0.5991553516991909, '51.689190%'),\n",
       "  Text(0.03182553267769238, -0.5991553516991909, '48.310810%')])"
      ]
     },
     "execution_count": 56,
     "metadata": {},
     "output_type": "execute_result"
    },
    {
     "data": {
      "image/png": "[encoded data removed]",
      "text/plain": [
       "<Figure size 432x288 with 2 Axes>"
      ]
     },
     "metadata": {},
     "output_type": "display_data"
    }
   ],
   "source": [
    "##B.6\n",
    "plt.subplot(1,2,1)\n",
    "plt.title(\"Mental Health Covered\")\n",
    "plt.pie(df_eda[df_eda.mental_healthcare_coverage=='Yes']['treatment_from_professional'].value_counts(),\n",
    "       autopct='%1f%%',radius=1, \n",
    "       labels=df_eda[df_eda.mental_healthcare_coverage=='Yes']['treatment_from_professional'].value_counts().index)\n",
    "\n",
    "plt.subplot(1,2,2)\n",
    "plt.title(\"Mental Health not covered\")\n",
    "plt.pie(df_eda[df_eda.mental_healthcare_coverage=='No']['treatment_from_professional'].value_counts(),\n",
    "       autopct='%1f%%',radius=1, \n",
    "       labels=df_eda[df_eda.mental_healthcare_coverage=='No']['treatment_from_professional'].value_counts().index)"
   ]
  },
  {
   "cell_type": "code",
   "execution_count": 57,
   "metadata": {
    "execution": {
     "iopub.execute_input": "2021-02-02T06:58:29.978194Z",
     "iopub.status.busy": "2021-02-02T06:58:29.977484Z",
     "iopub.status.idle": "2021-02-02T06:58:30.145793Z",
     "shell.execute_reply": "2021-02-02T06:58:30.146277Z"
    },
    "papermill": {
     "duration": 0.268124,
     "end_time": "2021-02-02T06:58:30.146456",
     "exception": false,
     "start_time": "2021-02-02T06:58:29.878332",
     "status": "completed"
    },
    "tags": []
   },
   "outputs": [
    {
     "data": {
      "text/plain": [
       "([<matplotlib.patches.Wedge at 0x7f1c8ea890d0>,\n",
       "  <matplotlib.patches.Wedge at 0x7f1c8ea97790>],\n",
       " [Text(-0.2840207786894458, 1.062700426871393, '1'),\n",
       "  Text(0.2840207786894455, -1.062700426871393, '0')],\n",
       " [Text(-0.1549204247396977, 0.579654778293487, '58.312958%'),\n",
       "  Text(0.1549204247396975, -0.5796547782934871, '41.687042%')])"
      ]
     },
     "execution_count": 57,
     "metadata": {},
     "output_type": "execute_result"
    },
    {
     "data": {
      "image/png": "[encoded data removed]",
      "text/plain": [
       "<Figure size 720x720 with 2 Axes>"
      ]
     },
     "metadata": {},
     "output_type": "display_data"
    }
   ],
   "source": [
    "##B.7\n",
    "plt.figure(figsize=(10,10))\n",
    "plt.subplot(1,2,1)\n",
    "plt.title(\"Mental Healthcare options Knowledge\")\n",
    "plt.pie(df_eda[df_eda.employer_offer_resources_to_learn_about_mental_health=='Yes']['treatment_from_professional'].value_counts(),\n",
    "       autopct='%1f%%',radius=1, \n",
    "       labels=df_eda[df_eda.employer_offer_resources_to_learn_about_mental_health=='Yes']['treatment_from_professional'].value_counts().index)\n",
    "\n",
    "plt.subplot(1,2,2)\n",
    "plt.title(\"Mental Healthcare options no knowledge\")\n",
    "plt.pie(df_eda[df_eda.employer_offer_resources_to_learn_about_mental_health=='No']['treatment_from_professional'].value_counts(),\n",
    "       autopct='%1f%%',radius=1, \n",
    "       labels=df_eda[df_eda.employer_offer_resources_to_learn_about_mental_health=='No']['treatment_from_professional'].value_counts().index)\n"
   ]
  },
  {
   "cell_type": "code",
   "execution_count": 58,
   "metadata": {
    "execution": {
     "iopub.execute_input": "2021-02-02T06:58:30.346553Z",
     "iopub.status.busy": "2021-02-02T06:58:30.345899Z",
     "iopub.status.idle": "2021-02-02T06:58:30.600912Z",
     "shell.execute_reply": "2021-02-02T06:58:30.601415Z"
    },
    "papermill": {
     "duration": 0.356791,
     "end_time": "2021-02-02T06:58:30.601606",
     "exception": false,
     "start_time": "2021-02-02T06:58:30.244815",
     "status": "completed"
    },
    "tags": []
   },
   "outputs": [
    {
     "data": {
      "text/plain": [
       "([<matplotlib.patches.Wedge at 0x7f1c8e9bd410>,\n",
       "  <matplotlib.patches.Wedge at 0x7f1c8e9cda50>,\n",
       "  <matplotlib.patches.Wedge at 0x7f1c8e9582d0>,\n",
       "  <matplotlib.patches.Wedge at 0x7f1c8e958a50>,\n",
       "  <matplotlib.patches.Wedge at 0x7f1c8e967210>,\n",
       "  <matplotlib.patches.Wedge at 0x7f1c8e967a10>],\n",
       " [Text(0.21807097813164583, 1.078167449191779, 'Somewhat open'),\n",
       "  Text(-1.09854150500076, -0.05662651137643169, 'Very open'),\n",
       "  Text(-0.6373633449424054, -0.8965310739309755, \"I don't know\"),\n",
       "  Text(0.266419245583799, -1.0672491675248847, 'Somewhat not open'),\n",
       "  Text(0.9165788254046539, -0.6081802831560928, 'Neutral'),\n",
       "  Text(1.0908949119861056, -0.14123841900427447, 'Not open at all')],\n",
       " [Text(0.11894780625362497, 0.5880913359227885, '43.647540%'),\n",
       "  Text(-0.5992044572731418, -0.03088718802350819, '14.344262%'),\n",
       "  Text(-0.3476527336049484, -0.48901694941689566, '14.344262%'),\n",
       "  Text(0.14531958850025398, -0.582135909559028, '13.114753%'),\n",
       "  Text(0.4999520865843566, -0.3317346999033233, '10.450820%'),\n",
       "  Text(0.5950335883560576, -0.07703913763869516, '4.098361%')])"
      ]
     },
     "execution_count": 58,
     "metadata": {},
     "output_type": "execute_result"
    },
    {
     "data": {
      "image/png": "[encoded data removed]",
      "text/plain": [
       "<Figure size 720x720 with 2 Axes>"
      ]
     },
     "metadata": {},
     "output_type": "display_data"
    }
   ],
   "source": [
    "##B.8\n",
    "plt.figure(figsize=(10,10))\n",
    "plt.subplot(1,2,1)\n",
    "plt.title(\"Having family history mental illness\")\n",
    "plt.pie(df_eda[df_eda.family_history_mental_illness=='Yes']['openess_of_family_friends'].value_counts(),\n",
    "       autopct='%1f%%',radius=1, \n",
    "       labels=df_eda[df_eda.family_history_mental_illness=='Yes']['openess_of_family_friends'].value_counts().index)\n",
    "plt.subplot(1,2,2)\n",
    "plt.title(\"No family history of mental illness\")\n",
    "plt.pie(df_eda[df_eda.family_history_mental_illness=='No']['openess_of_family_friends'].value_counts(),\n",
    "       autopct='%1f%%',radius=1, \n",
    "       labels=df_eda[df_eda.family_history_mental_illness=='No']['openess_of_family_friends'].value_counts().index)"
   ]
  },
  {
   "cell_type": "code",
   "execution_count": 59,
   "metadata": {
    "execution": {
     "iopub.execute_input": "2021-02-02T06:58:30.805944Z",
     "iopub.status.busy": "2021-02-02T06:58:30.805260Z",
     "iopub.status.idle": "2021-02-02T06:58:31.051606Z",
     "shell.execute_reply": "2021-02-02T06:58:31.052112Z"
    },
    "papermill": {
     "duration": 0.350129,
     "end_time": "2021-02-02T06:58:31.052293",
     "exception": false,
     "start_time": "2021-02-02T06:58:30.702164",
     "status": "completed"
    },
    "tags": []
   },
   "outputs": [
    {
     "data": {
      "text/plain": [
       "([<matplotlib.patches.Wedge at 0x7f1c8e8c6090>,\n",
       "  <matplotlib.patches.Wedge at 0x7f1c8e8d7750>],\n",
       " [Text(-0.02303663990543217, 1.0997587522824575, '0'),\n",
       "  Text(0.02303663990543179, -1.0997587522824575, '1')],\n",
       " [Text(-0.012565439948417547, 0.5998684103358859, '50.666666%'),\n",
       "  Text(0.012565439948417339, -0.5998684103358859, '49.333334%')])"
      ]
     },
     "execution_count": 59,
     "metadata": {},
     "output_type": "execute_result"
    },
    {
     "data": {
      "image/png": "[encoded data removed]",
      "text/plain": [
       "<Figure size 720x720 with 3 Axes>"
      ]
     },
     "metadata": {},
     "output_type": "display_data"
    }
   ],
   "source": [
    "##B.9\n",
    "plt.figure(figsize=(10,10))\n",
    "plt.subplot(1,3,1)\n",
    "plt.title(\"Very open family\")\n",
    "plt.pie(df_eda[df_eda.openess_of_family_friends=='Very open']['treatment_from_professional'].value_counts(),\n",
    "       autopct='%1f%%',radius=1,\n",
    "       labels=df_eda[df_eda.openess_of_family_friends=='Very open']['treatment_from_professional'].value_counts().index)\n",
    "plt.subplot(1,3,2)\n",
    "plt.title(\"Somewhat Open family\")\n",
    "plt.pie(df_eda[df_eda.openess_of_family_friends=='Somewhat open']['treatment_from_professional'].value_counts(),\n",
    "       autopct='%1f%%',radius=1,\n",
    "       labels=df_eda[df_eda.openess_of_family_friends=='Somewhat open']['treatment_from_professional'].value_counts().index)\n",
    "plt.subplot(1,3,3)\n",
    "plt.title(\"Not open at all\")\n",
    "plt.pie(df_eda[df_eda.openess_of_family_friends=='Not open at all']['treatment_from_professional'].value_counts(),\n",
    "       autopct='%1f%%',radius=1,\n",
    "       labels=df_eda[df_eda.openess_of_family_friends=='Not open at all']['treatment_from_professional'].value_counts().index)"
   ]
  },
  {
   "cell_type": "code",
   "execution_count": 60,
   "metadata": {
    "execution": {
     "iopub.execute_input": "2021-02-02T06:58:31.259825Z",
     "iopub.status.busy": "2021-02-02T06:58:31.259177Z",
     "iopub.status.idle": "2021-02-02T06:58:31.498028Z",
     "shell.execute_reply": "2021-02-02T06:58:31.498517Z"
    },
    "papermill": {
     "duration": 0.343434,
     "end_time": "2021-02-02T06:58:31.498700",
     "exception": false,
     "start_time": "2021-02-02T06:58:31.155266",
     "status": "completed"
    },
    "tags": []
   },
   "outputs": [
    {
     "data": {
      "text/plain": [
       "<AxesSubplot:>"
      ]
     },
     "execution_count": 60,
     "metadata": {},
     "output_type": "execute_result"
    },
    {
     "data": {
      "image/png": "[encoded data removed]",
      "text/plain": [
       "<Figure size 720x720 with 1 Axes>"
      ]
     },
     "metadata": {
      "needs_background": "light"
     },
     "output_type": "display_data"
    }
   ],
   "source": [
    "##B.10\n",
    "disorder_type=pd.DataFrame(\n",
    "    df_eda[df_eda.type_of_disorder.isnull() != True]['type_of_disorder'].str.split(\"|\").tolist()).stack()\n",
    "plt.figure(figsize=(10,10))\n",
    "sns.barplot(x=disorder_type.value_counts()[0:10],y=disorder_type.value_counts().index[0:10])"
   ]
  },
  {
   "cell_type": "markdown",
   "metadata": {
    "papermill": {
     "duration": 0.104612,
     "end_time": "2021-02-02T06:58:31.706032",
     "exception": false,
     "start_time": "2021-02-02T06:58:31.601420",
     "status": "completed"
    },
    "tags": []
   },
   "source": [
    "## 4. ML Models"
   ]
  },
  {
   "cell_type": "markdown",
   "metadata": {
    "papermill": {
     "duration": 0.104251,
     "end_time": "2021-02-02T06:58:31.913859",
     "exception": false,
     "start_time": "2021-02-02T06:58:31.809608",
     "status": "completed"
    },
    "tags": []
   },
   "source": [
    "**Target Variable Column**: \"diagnosed_mental_health_condition\"\n",
    "\n",
    "**Aim** : Here our main task is that knowing certain paramerters of the repondent's background we have to predict if one will be diagnosed positive or negetive.\n",
    "\n",
    "**Stop Data Leakage**: So, now comes the important part where we have to stop data leakage. To stop Data leakage we have to drop certain columns which we can't have while making prediction. Like Treatment from professional column we might not know when we are making prediction because if one is diagnosed then one takes help from professional. These type of columns are like false target if we include it might train on that and then make prediction.\n",
    "\n",
    "**Stop Train and Test contamination** : To stop this issue we have split the data then done all the preprocessing seperately."
   ]
  },
  {
   "cell_type": "markdown",
   "metadata": {
    "papermill": {
     "duration": 0.103883,
     "end_time": "2021-02-02T06:58:32.120954",
     "exception": false,
     "start_time": "2021-02-02T06:58:32.017071",
     "status": "completed"
    },
    "tags": []
   },
   "source": [
    "#### 4.1 Data Preperation"
   ]
  },
  {
   "cell_type": "code",
   "execution_count": 61,
   "metadata": {
    "execution": {
     "iopub.execute_input": "2021-02-02T06:58:32.331173Z",
     "iopub.status.busy": "2021-02-02T06:58:32.330535Z",
     "iopub.status.idle": "2021-02-02T06:58:32.335714Z",
     "shell.execute_reply": "2021-02-02T06:58:32.336297Z"
    },
    "papermill": {
     "duration": 0.111966,
     "end_time": "2021-02-02T06:58:32.336472",
     "exception": false,
     "start_time": "2021-02-02T06:58:32.224506",
     "status": "completed"
    },
    "tags": []
   },
   "outputs": [],
   "source": [
    "## Dropping unnecessary columns\n",
    "y=df_eda.diagnosed_mental_health_condition\n",
    "X=df_eda.drop(['diagnosed_mental_health_condition','treatment_from_professional',\n",
    "               'while_effective_treatment_mental_health_issue_interferes_work',\n",
    "               'while_not_effective_treatment_interferes_work ','type_of_disorder','US state','US state work'],axis=1)"
   ]
  },
  {
   "cell_type": "code",
   "execution_count": 62,
   "metadata": {
    "execution": {
     "iopub.execute_input": "2021-02-02T06:58:32.546350Z",
     "iopub.status.busy": "2021-02-02T06:58:32.545649Z",
     "iopub.status.idle": "2021-02-02T06:58:32.552288Z",
     "shell.execute_reply": "2021-02-02T06:58:32.552805Z"
    },
    "papermill": {
     "duration": 0.113184,
     "end_time": "2021-02-02T06:58:32.552977",
     "exception": false,
     "start_time": "2021-02-02T06:58:32.439793",
     "status": "completed"
    },
    "tags": []
   },
   "outputs": [],
   "source": [
    "## Splitting the data\n",
    "X_train,X_valid,y_train,y_valid=train_test_split(X,y,train_size=0.8,test_size=0.2,random_state=0)"
   ]
  },
  {
   "cell_type": "code",
   "execution_count": 63,
   "metadata": {
    "execution": {
     "iopub.execute_input": "2021-02-02T06:58:32.767138Z",
     "iopub.status.busy": "2021-02-02T06:58:32.766472Z",
     "iopub.status.idle": "2021-02-02T06:58:32.772427Z",
     "shell.execute_reply": "2021-02-02T06:58:32.771813Z"
    },
    "papermill": {
     "duration": 0.114063,
     "end_time": "2021-02-02T06:58:32.772576",
     "exception": false,
     "start_time": "2021-02-02T06:58:32.658513",
     "status": "completed"
    },
    "tags": []
   },
   "outputs": [],
   "source": [
    "cat_columns=['self_employed', 'no_of_employees', 'tech_company',\n",
    "       'mental_healthcare_coverage',\n",
    "       'knowledge_about_mental_healthcare_options_workplace',\n",
    "       'employer_discussed_mental_health ',\n",
    "       'employer_offer_resources_to_learn_about_mental_health',\n",
    "       'medical_leave_from_work ', 'comfortable_discussing_with_coworkers',\n",
    "       'employer_take_mental_health_seriously', 'openess_of_family_friends',\n",
    "       'family_history_mental_illness', 'mental_health_disorder_past',\n",
    "       'currently_mental_health_disorder', 'age', 'gender', 'country',\n",
    "       'country work ', 'work_remotely', 'tech_role']"
   ]
  },
  {
   "cell_type": "code",
   "execution_count": 64,
   "metadata": {
    "execution": {
     "iopub.execute_input": "2021-02-02T06:58:33.001345Z",
     "iopub.status.busy": "2021-02-02T06:58:32.996301Z",
     "iopub.status.idle": "2021-02-02T06:58:33.083604Z",
     "shell.execute_reply": "2021-02-02T06:58:33.083018Z"
    },
    "papermill": {
     "duration": 0.204516,
     "end_time": "2021-02-02T06:58:33.083753",
     "exception": false,
     "start_time": "2021-02-02T06:58:32.879237",
     "status": "completed"
    },
    "tags": []
   },
   "outputs": [
    {
     "name": "stderr",
     "output_type": "stream",
     "text": [
      "/opt/conda/lib/python3.7/site-packages/numpy/lib/arraysetops.py:576: FutureWarning:\n",
      "\n",
      "elementwise comparison failed; returning scalar instead, but in the future will perform elementwise comparison\n",
      "\n"
     ]
    }
   ],
   "source": [
    "##Label Encode the data \n",
    "from sklearn.preprocessing import LabelEncoder\n",
    "label_encode=LabelEncoder()\n",
    "label_X_train=X_train.copy()\n",
    "label_X_valid=X_valid.copy()\n",
    "\n",
    "for col in cat_columns:\n",
    "    label_X_train[col]=label_encode.fit_transform(X_train[col])\n",
    "    label_X_valid[col] = label_X_valid[col].map(lambda s: '<unknown>' if s not in label_encode.classes_ else s)\n",
    "    label_encode.classes_ = np.append(label_encode.classes_, '<unknown>')\n",
    "    label_X_valid[col] = label_encode.transform(label_X_valid[col])\n",
    "\n",
    "label_y_train=label_encode.fit_transform(y_train)\n",
    "label_y_valid=label_encode.transform(y_valid)"
   ]
  },
  {
   "cell_type": "markdown",
   "metadata": {
    "papermill": {
     "duration": 0.1054,
     "end_time": "2021-02-02T06:58:33.294890",
     "exception": false,
     "start_time": "2021-02-02T06:58:33.189490",
     "status": "completed"
    },
    "tags": []
   },
   "source": [
    "#### 4.2 Random Forest Model"
   ]
  },
  {
   "cell_type": "code",
   "execution_count": 65,
   "metadata": {
    "execution": {
     "iopub.execute_input": "2021-02-02T06:58:33.511398Z",
     "iopub.status.busy": "2021-02-02T06:58:33.510494Z",
     "iopub.status.idle": "2021-02-02T06:58:36.227790Z",
     "shell.execute_reply": "2021-02-02T06:58:36.227227Z"
    },
    "papermill": {
     "duration": 2.827365,
     "end_time": "2021-02-02T06:58:36.227943",
     "exception": false,
     "start_time": "2021-02-02T06:58:33.400578",
     "status": "completed"
    },
    "tags": []
   },
   "outputs": [],
   "source": [
    "from sklearn.ensemble import RandomForestClassifier\n",
    "model=RandomForestClassifier(n_estimators=1000, max_depth=10, random_state=0)\n",
    "model.fit(label_X_train,label_y_train)\n",
    "preds=model.predict(label_X_valid)"
   ]
  },
  {
   "cell_type": "code",
   "execution_count": 66,
   "metadata": {
    "execution": {
     "iopub.execute_input": "2021-02-02T06:58:36.442402Z",
     "iopub.status.busy": "2021-02-02T06:58:36.441598Z",
     "iopub.status.idle": "2021-02-02T06:58:36.444686Z",
     "shell.execute_reply": "2021-02-02T06:58:36.445223Z"
    },
    "papermill": {
     "duration": 0.113182,
     "end_time": "2021-02-02T06:58:36.445402",
     "exception": false,
     "start_time": "2021-02-02T06:58:36.332220",
     "status": "completed"
    },
    "tags": []
   },
   "outputs": [
    {
     "data": {
      "text/plain": [
       "0.926829268292683"
      ]
     },
     "execution_count": 66,
     "metadata": {},
     "output_type": "execute_result"
    }
   ],
   "source": [
    "from sklearn.metrics import accuracy_score\n",
    "accuracy_score(label_y_valid,preds)"
   ]
  },
  {
   "cell_type": "markdown",
   "metadata": {
    "papermill": {
     "duration": 0.103932,
     "end_time": "2021-02-02T06:58:36.654482",
     "exception": false,
     "start_time": "2021-02-02T06:58:36.550550",
     "status": "completed"
    },
    "tags": []
   },
   "source": [
    "#### 4.3 XGBoost Classifier"
   ]
  },
  {
   "cell_type": "code",
   "execution_count": 67,
   "metadata": {
    "execution": {
     "iopub.execute_input": "2021-02-02T06:58:36.869489Z",
     "iopub.status.busy": "2021-02-02T06:58:36.868794Z",
     "iopub.status.idle": "2021-02-02T06:58:38.380695Z",
     "shell.execute_reply": "2021-02-02T06:58:38.381222Z"
    },
    "papermill": {
     "duration": 1.622884,
     "end_time": "2021-02-02T06:58:38.381397",
     "exception": false,
     "start_time": "2021-02-02T06:58:36.758513",
     "status": "completed"
    },
    "tags": []
   },
   "outputs": [
    {
     "name": "stderr",
     "output_type": "stream",
     "text": [
      "/opt/conda/lib/python3.7/site-packages/xgboost/sklearn.py:888: UserWarning:\n",
      "\n",
      "The use of label encoder in XGBClassifier is deprecated and will be removed in a future release. To remove this warning, do the following: 1) Pass option use_label_encoder=False when constructing XGBClassifier object; and 2) Encode your labels (y) as integers starting with 0, i.e. 0, 1, 2, ..., [num_class - 1].\n",
      "\n"
     ]
    },
    {
     "name": "stdout",
     "output_type": "stream",
     "text": [
      "[06:58:37] WARNING: ../src/learner.cc:1061: Starting in XGBoost 1.3.0, the default evaluation metric used with the objective 'binary:logistic' was changed from 'error' to 'logloss'. Explicitly set eval_metric if you'd like to restore the old behavior.\n"
     ]
    },
    {
     "data": {
      "text/plain": [
       "XGBClassifier(base_score=0.5, booster='gbtree', colsample_bylevel=1,\n",
       "              colsample_bynode=1, colsample_bytree=1, gamma=0, gpu_id=-1,\n",
       "              importance_type='gain', interaction_constraints='',\n",
       "              learning_rate=0.05, max_delta_step=0, max_depth=6,\n",
       "              min_child_weight=1, missing=nan, monotone_constraints='()',\n",
       "              n_estimators=1000, n_jobs=4, num_parallel_tree=1, random_state=0,\n",
       "              reg_alpha=0, reg_lambda=1, scale_pos_weight=1, subsample=1,\n",
       "              tree_method='exact', validate_parameters=1, verbosity=None)"
      ]
     },
     "execution_count": 67,
     "metadata": {},
     "output_type": "execute_result"
    }
   ],
   "source": [
    "from xgboost import XGBClassifier\n",
    "model1=XGBClassifier(n_estimators=1000,learning_rate=0.05)\n",
    "model1.fit(label_X_train,label_y_train)"
   ]
  },
  {
   "cell_type": "code",
   "execution_count": 68,
   "metadata": {
    "execution": {
     "iopub.execute_input": "2021-02-02T06:58:38.595557Z",
     "iopub.status.busy": "2021-02-02T06:58:38.594609Z",
     "iopub.status.idle": "2021-02-02T06:58:38.610158Z",
     "shell.execute_reply": "2021-02-02T06:58:38.610677Z"
    },
    "papermill": {
     "duration": 0.124285,
     "end_time": "2021-02-02T06:58:38.610884",
     "exception": false,
     "start_time": "2021-02-02T06:58:38.486599",
     "status": "completed"
    },
    "tags": []
   },
   "outputs": [
    {
     "data": {
      "text/plain": [
       "0.8745644599303136"
      ]
     },
     "execution_count": 68,
     "metadata": {},
     "output_type": "execute_result"
    }
   ],
   "source": [
    "preds1=model1.predict(label_X_valid)\n",
    "accuracy_score(label_y_valid,preds1)"
   ]
  },
  {
   "cell_type": "markdown",
   "metadata": {
    "papermill": {
     "duration": 0.107069,
     "end_time": "2021-02-02T06:58:38.826700",
     "exception": false,
     "start_time": "2021-02-02T06:58:38.719631",
     "status": "completed"
    },
    "tags": []
   },
   "source": [
    "#### 4.4 XGBoost Random Classifier"
   ]
  },
  {
   "cell_type": "code",
   "execution_count": 69,
   "metadata": {
    "execution": {
     "iopub.execute_input": "2021-02-02T06:58:39.046703Z",
     "iopub.status.busy": "2021-02-02T06:58:39.046036Z",
     "iopub.status.idle": "2021-02-02T06:58:40.238470Z",
     "shell.execute_reply": "2021-02-02T06:58:40.237858Z"
    },
    "papermill": {
     "duration": 1.303709,
     "end_time": "2021-02-02T06:58:40.238618",
     "exception": false,
     "start_time": "2021-02-02T06:58:38.934909",
     "status": "completed"
    },
    "tags": []
   },
   "outputs": [
    {
     "name": "stdout",
     "output_type": "stream",
     "text": [
      "[06:58:39] WARNING: ../src/learner.cc:1061: Starting in XGBoost 1.3.0, the default evaluation metric used with the objective 'binary:logistic' was changed from 'error' to 'logloss'. Explicitly set eval_metric if you'd like to restore the old behavior.\n"
     ]
    },
    {
     "data": {
      "text/plain": [
       "XGBRFClassifier(base_score=0.5, booster='gbtree', colsample_bylevel=1,\n",
       "                colsample_bytree=1, gamma=0, gpu_id=-1, importance_type='gain',\n",
       "                interaction_constraints='', learning_rate=0.05,\n",
       "                max_delta_step=0, max_depth=6, min_child_weight=1, missing=nan,\n",
       "                monotone_constraints='()', n_estimators=1000, n_jobs=4,\n",
       "                num_parallel_tree=1000, objective='binary:logistic',\n",
       "                random_state=0, reg_alpha=0, scale_pos_weight=1,\n",
       "                tree_method='exact', validate_parameters=1, verbosity=None)"
      ]
     },
     "execution_count": 69,
     "metadata": {},
     "output_type": "execute_result"
    }
   ],
   "source": [
    "from xgboost import XGBRFClassifier\n",
    "model2=XGBRFClassifier(n_estimators=1000,learning_rate=0.05)\n",
    "model2.fit(label_X_train,label_y_train)"
   ]
  },
  {
   "cell_type": "code",
   "execution_count": 70,
   "metadata": {
    "execution": {
     "iopub.execute_input": "2021-02-02T06:58:40.458974Z",
     "iopub.status.busy": "2021-02-02T06:58:40.458262Z",
     "iopub.status.idle": "2021-02-02T06:58:40.474373Z",
     "shell.execute_reply": "2021-02-02T06:58:40.474947Z"
    },
    "papermill": {
     "duration": 0.12937,
     "end_time": "2021-02-02T06:58:40.475173",
     "exception": false,
     "start_time": "2021-02-02T06:58:40.345803",
     "status": "completed"
    },
    "tags": []
   },
   "outputs": [
    {
     "data": {
      "text/plain": [
       "0.9303135888501742"
      ]
     },
     "execution_count": 70,
     "metadata": {},
     "output_type": "execute_result"
    }
   ],
   "source": [
    "preds2=model2.predict(label_X_valid)\n",
    "accuracy_score(label_y_valid,preds2)"
   ]
  },
  {
   "cell_type": "markdown",
   "metadata": {
    "papermill": {
     "duration": 0.108244,
     "end_time": "2021-02-02T06:58:40.693786",
     "exception": false,
     "start_time": "2021-02-02T06:58:40.585542",
     "status": "completed"
    },
    "tags": []
   },
   "source": [
    "#### 4.5 Logistic Regression"
   ]
  },
  {
   "cell_type": "code",
   "execution_count": 71,
   "metadata": {
    "execution": {
     "iopub.execute_input": "2021-02-02T06:58:40.919819Z",
     "iopub.status.busy": "2021-02-02T06:58:40.919158Z",
     "iopub.status.idle": "2021-02-02T06:58:40.991240Z",
     "shell.execute_reply": "2021-02-02T06:58:40.990597Z"
    },
    "papermill": {
     "duration": 0.188644,
     "end_time": "2021-02-02T06:58:40.991407",
     "exception": false,
     "start_time": "2021-02-02T06:58:40.802763",
     "status": "completed"
    },
    "tags": []
   },
   "outputs": [
    {
     "data": {
      "text/plain": [
       "0.8710801393728222"
      ]
     },
     "execution_count": 71,
     "metadata": {},
     "output_type": "execute_result"
    }
   ],
   "source": [
    "from sklearn.linear_model import LogisticRegression\n",
    "logistic=LogisticRegression(C=1,penalty='l1',solver='liblinear',random_state=0)\n",
    "logistic.fit(label_X_train,label_y_train)\n",
    "preds3=logistic.predict(label_X_valid)\n",
    "accuracy_score(label_y_valid,preds3)"
   ]
  },
  {
   "cell_type": "code",
   "execution_count": null,
   "metadata": {
    "papermill": {
     "duration": 0.110897,
     "end_time": "2021-02-02T06:58:41.211355",
     "exception": false,
     "start_time": "2021-02-02T06:58:41.100458",
     "status": "completed"
    },
    "tags": []
   },
   "outputs": [],
   "source": []
  }
 ],
 "metadata": {
  "kernelspec": {
   "display_name": "Python 3",
   "language": "python",
   "name": "python3"
  },
  "language_info": {
   "codemirror_mode": {
    "name": "ipython",
    "version": 3
   },
   "file_extension": ".py",
   "mimetype": "text/x-python",
   "name": "python",
   "nbconvert_exporter": "python",
   "pygments_lexer": "ipython3",
   "version": "3.7.9"
  },
  "papermill": {
   "default_parameters": {},
   "duration": 44.178318,
   "end_time": "2021-02-02T06:58:42.231343",
   "environment_variables": {},
   "exception": null,
   "input_path": "__notebook__.ipynb",
   "output_path": "__notebook__.ipynb",
   "parameters": {},
   "start_time": "2021-02-02T06:57:58.053025",
   "version": "2.2.2"
  }
 },
 "nbformat": 4,
 "nbformat_minor": 4
}
